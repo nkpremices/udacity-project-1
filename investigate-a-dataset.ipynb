{
 "cells": [
  {
   "cell_type": "markdown",
   "metadata": {},
   "source": [
    "\n",
    "# Project: Investigate a Dataset (TMDB movie data)\n",
    "\n",
    "## Table of Contents\n",
    "<ul>\n",
    "<li><a href=\"#intro\">Introduction</a></li>\n",
    "<li><a href=\"#wrangling\">Data Wrangling</a></li>\n",
    "<li><a href=\"#eda\">Exploratory Data Analysis</a></li>\n",
    "<li><a href=\"#conclusions\">Conclusions</a></li>\n",
    "</ul>"
   ]
  },
  {
   "cell_type": "markdown",
   "metadata": {},
   "source": [
    "<a id='intro'></a>\n",
    "## Introduction\n",
    "\n",
    "#### About the dataset\n",
    "\n",
    "The dataset is called TMDB movie data. Downlaoded from [this page](https://www.google.com/url?q=https://www.kaggle.com/tmdb/tmdb-movie-metadata&sa=D&ust=1532469042115000), its original version was removed by [kaggle](https://www.kaggle.com/tmdb/tmdb-movie-metadata) and replaced with a similar set of films and data fields from [The Movie Database (TMDb)](https://www.kaggle.com/tmdb/themoviedb.org). It contains more than 5000 movies and their rating and basic move information, including user ratings and revenue data.\n",
    "\n",
    "A successfull movie is avaluated by its popularity, vote average score(Ratings) and revenue. There are some keys that can affect the success of a movie. For example the Budget, Cast, Director, Tagline Keywords, Runtime, Genres, Production Companies, Release Date, Vote Average, etc.\n",
    "\n",
    "\n",
    "\n",
    "Looking at how the data is, various questions can be asked. For example - How was the popularity of a movie over the years ?  - Considering the five recent years, how is the distribution of revenue in different score rating levels ? how is the distribution of revenue in different popularity levels ? What kinds of properties are associated with movies that have high popularity? What kinds of properties are associated with movies that have high voting score? How many movies are released year by year ? What are the keywords trends by generation ? \n",
    "\n",
    "In this presentation, based on this dataset we are going to answer the questions above. \n"
   ]
  },
  {
   "cell_type": "code",
   "execution_count": 2,
   "metadata": {},
   "outputs": [],
   "source": [
    "# Use this cell to set up import statements for all of the packages that you\n",
    "#   plan to use.\n",
    "\n",
    "import pandas as pd\n",
    "import numpy as np\n",
    "import matplotlib.pyplot as plt\n",
    "import seaborn as sns\n",
    "from collections import Counter\n",
    "%matplotlib inline\n"
   ]
  },
  {
   "cell_type": "markdown",
   "metadata": {},
   "source": [
    "<a id='wrangling'></a>\n",
    "## Data Wrangling\n",
    "\n",
    "\n",
    "### General Properties"
   ]
  },
  {
   "cell_type": "markdown",
   "metadata": {},
   "source": [
    "##### Let's load the first record of the dataframe to see how the database looks like"
   ]
  },
  {
   "cell_type": "code",
   "execution_count": 3,
   "metadata": {},
   "outputs": [
    {
     "data": {
      "text/html": [
       "<div>\n",
       "<style scoped>\n",
       "    .dataframe tbody tr th:only-of-type {\n",
       "        vertical-align: middle;\n",
       "    }\n",
       "\n",
       "    .dataframe tbody tr th {\n",
       "        vertical-align: top;\n",
       "    }\n",
       "\n",
       "    .dataframe thead th {\n",
       "        text-align: right;\n",
       "    }\n",
       "</style>\n",
       "<table border=\"1\" class=\"dataframe\">\n",
       "  <thead>\n",
       "    <tr style=\"text-align: right;\">\n",
       "      <th></th>\n",
       "      <th>id</th>\n",
       "      <th>imdb_id</th>\n",
       "      <th>popularity</th>\n",
       "      <th>budget</th>\n",
       "      <th>revenue</th>\n",
       "      <th>original_title</th>\n",
       "      <th>cast</th>\n",
       "      <th>homepage</th>\n",
       "      <th>director</th>\n",
       "      <th>tagline</th>\n",
       "      <th>...</th>\n",
       "      <th>overview</th>\n",
       "      <th>runtime</th>\n",
       "      <th>genres</th>\n",
       "      <th>production_companies</th>\n",
       "      <th>release_date</th>\n",
       "      <th>vote_count</th>\n",
       "      <th>vote_average</th>\n",
       "      <th>release_year</th>\n",
       "      <th>budget_adj</th>\n",
       "      <th>revenue_adj</th>\n",
       "    </tr>\n",
       "  </thead>\n",
       "  <tbody>\n",
       "    <tr>\n",
       "      <th>0</th>\n",
       "      <td>135397</td>\n",
       "      <td>tt0369610</td>\n",
       "      <td>32.985763</td>\n",
       "      <td>150000000</td>\n",
       "      <td>1513528810</td>\n",
       "      <td>Jurassic World</td>\n",
       "      <td>Chris Pratt|Bryce Dallas Howard|Irrfan Khan|Vi...</td>\n",
       "      <td>http://www.jurassicworld.com/</td>\n",
       "      <td>Colin Trevorrow</td>\n",
       "      <td>The park is open.</td>\n",
       "      <td>...</td>\n",
       "      <td>Twenty-two years after the events of Jurassic ...</td>\n",
       "      <td>124</td>\n",
       "      <td>Action|Adventure|Science Fiction|Thriller</td>\n",
       "      <td>Universal Studios|Amblin Entertainment|Legenda...</td>\n",
       "      <td>6/9/15</td>\n",
       "      <td>5562</td>\n",
       "      <td>6.5</td>\n",
       "      <td>2015</td>\n",
       "      <td>1.379999e+08</td>\n",
       "      <td>1.392446e+09</td>\n",
       "    </tr>\n",
       "  </tbody>\n",
       "</table>\n",
       "<p>1 rows × 21 columns</p>\n",
       "</div>"
      ],
      "text/plain": [
       "       id    imdb_id  popularity     budget     revenue  original_title  \\\n",
       "0  135397  tt0369610   32.985763  150000000  1513528810  Jurassic World   \n",
       "\n",
       "                                                cast  \\\n",
       "0  Chris Pratt|Bryce Dallas Howard|Irrfan Khan|Vi...   \n",
       "\n",
       "                        homepage         director            tagline  ...  \\\n",
       "0  http://www.jurassicworld.com/  Colin Trevorrow  The park is open.  ...   \n",
       "\n",
       "                                            overview runtime  \\\n",
       "0  Twenty-two years after the events of Jurassic ...     124   \n",
       "\n",
       "                                      genres  \\\n",
       "0  Action|Adventure|Science Fiction|Thriller   \n",
       "\n",
       "                                production_companies release_date vote_count  \\\n",
       "0  Universal Studios|Amblin Entertainment|Legenda...       6/9/15       5562   \n",
       "\n",
       "   vote_average  release_year    budget_adj   revenue_adj  \n",
       "0           6.5          2015  1.379999e+08  1.392446e+09  \n",
       "\n",
       "[1 rows x 21 columns]"
      ]
     },
     "execution_count": 3,
     "metadata": {},
     "output_type": "execute_result"
    }
   ],
   "source": [
    "# Load the data and print out a few lines. Perform operations to inspect data\n",
    "#   types and look for instances of missing or possibly errant data.\n",
    "df = pd.read_csv('tmdb-movies.csv')\n",
    "df.head(1)"
   ]
  },
  {
   "cell_type": "markdown",
   "metadata": {},
   "source": [
    "##### let's check now general info about the dataset"
   ]
  },
  {
   "cell_type": "code",
   "execution_count": 5,
   "metadata": {},
   "outputs": [
    {
     "name": "stdout",
     "output_type": "stream",
     "text": [
      "<class 'pandas.core.frame.DataFrame'>\n",
      "RangeIndex: 10866 entries, 0 to 10865\n",
      "Data columns (total 21 columns):\n",
      " #   Column                Non-Null Count  Dtype  \n",
      "---  ------                --------------  -----  \n",
      " 0   id                    10866 non-null  int64  \n",
      " 1   imdb_id               10856 non-null  object \n",
      " 2   popularity            10866 non-null  float64\n",
      " 3   budget                10866 non-null  int64  \n",
      " 4   revenue               10866 non-null  int64  \n",
      " 5   original_title        10866 non-null  object \n",
      " 6   cast                  10790 non-null  object \n",
      " 7   homepage              2936 non-null   object \n",
      " 8   director              10822 non-null  object \n",
      " 9   tagline               8042 non-null   object \n",
      " 10  keywords              9373 non-null   object \n",
      " 11  overview              10862 non-null  object \n",
      " 12  runtime               10866 non-null  int64  \n",
      " 13  genres                10843 non-null  object \n",
      " 14  production_companies  9836 non-null   object \n",
      " 15  release_date          10866 non-null  object \n",
      " 16  vote_count            10866 non-null  int64  \n",
      " 17  vote_average          10866 non-null  float64\n",
      " 18  release_year          10866 non-null  int64  \n",
      " 19  budget_adj            10866 non-null  float64\n",
      " 20  revenue_adj           10866 non-null  float64\n",
      "dtypes: float64(4), int64(6), object(11)\n",
      "memory usage: 1.7+ MB\n"
     ]
    }
   ],
   "source": [
    "df.info()"
   ]
  },
  {
   "cell_type": "markdown",
   "metadata": {},
   "source": [
    "Judging form the info above, the dataset has 10866 entries and 21 colums. The types used are int, float and string. Form the total number of entries and the number of entries per column, a lot of columns have null values. Let's check the exact number of null records per column."
   ]
  },
  {
   "cell_type": "code",
   "execution_count": 8,
   "metadata": {},
   "outputs": [
    {
     "data": {
      "text/plain": [
       "[('id', 0),\n",
       " ('imdb_id', 10),\n",
       " ('popularity', 0),\n",
       " ('budget', 0),\n",
       " ('revenue', 0),\n",
       " ('original_title', 0),\n",
       " ('cast', 76),\n",
       " ('homepage', 7930),\n",
       " ('director', 44),\n",
       " ('tagline', 2824),\n",
       " ('keywords', 1493),\n",
       " ('overview', 4),\n",
       " ('runtime', 0),\n",
       " ('genres', 23),\n",
       " ('production_companies', 1030),\n",
       " ('release_date', 0),\n",
       " ('vote_count', 0),\n",
       " ('vote_average', 0),\n",
       " ('release_year', 0),\n",
       " ('budget_adj', 0),\n",
       " ('revenue_adj', 0)]"
      ]
     },
     "execution_count": 8,
     "metadata": {},
     "output_type": "execute_result"
    }
   ],
   "source": [
    "list(df.isnull().sum().items())"
   ]
  },
  {
   "cell_type": "markdown",
   "metadata": {},
   "source": [
    "Looking at the result above, we see that the colums that have null values are cast, homepage, director, tagline, keywodds, overview, genres, production companies. We also see that homepage, tagline, keywords and production_companies have a lot of null records. I decided to get rid of tagline and keywords since they have a lot of null values. \n",
    "\n",
    "Let's try to get more descriptive information from the dataset"
   ]
  },
  {
   "cell_type": "code",
   "execution_count": 9,
   "metadata": {},
   "outputs": [
    {
     "data": {
      "text/html": [
       "<div>\n",
       "<style scoped>\n",
       "    .dataframe tbody tr th:only-of-type {\n",
       "        vertical-align: middle;\n",
       "    }\n",
       "\n",
       "    .dataframe tbody tr th {\n",
       "        vertical-align: top;\n",
       "    }\n",
       "\n",
       "    .dataframe thead th {\n",
       "        text-align: right;\n",
       "    }\n",
       "</style>\n",
       "<table border=\"1\" class=\"dataframe\">\n",
       "  <thead>\n",
       "    <tr style=\"text-align: right;\">\n",
       "      <th></th>\n",
       "      <th>id</th>\n",
       "      <th>popularity</th>\n",
       "      <th>budget</th>\n",
       "      <th>revenue</th>\n",
       "      <th>runtime</th>\n",
       "      <th>vote_count</th>\n",
       "      <th>vote_average</th>\n",
       "      <th>release_year</th>\n",
       "      <th>budget_adj</th>\n",
       "      <th>revenue_adj</th>\n",
       "    </tr>\n",
       "  </thead>\n",
       "  <tbody>\n",
       "    <tr>\n",
       "      <th>count</th>\n",
       "      <td>10866.000000</td>\n",
       "      <td>10866.000000</td>\n",
       "      <td>1.086600e+04</td>\n",
       "      <td>1.086600e+04</td>\n",
       "      <td>10866.000000</td>\n",
       "      <td>10866.000000</td>\n",
       "      <td>10866.000000</td>\n",
       "      <td>10866.000000</td>\n",
       "      <td>1.086600e+04</td>\n",
       "      <td>1.086600e+04</td>\n",
       "    </tr>\n",
       "    <tr>\n",
       "      <th>mean</th>\n",
       "      <td>66064.177434</td>\n",
       "      <td>0.646441</td>\n",
       "      <td>1.462570e+07</td>\n",
       "      <td>3.982332e+07</td>\n",
       "      <td>102.070863</td>\n",
       "      <td>217.389748</td>\n",
       "      <td>5.974922</td>\n",
       "      <td>2001.322658</td>\n",
       "      <td>1.755104e+07</td>\n",
       "      <td>5.136436e+07</td>\n",
       "    </tr>\n",
       "    <tr>\n",
       "      <th>std</th>\n",
       "      <td>92130.136561</td>\n",
       "      <td>1.000185</td>\n",
       "      <td>3.091321e+07</td>\n",
       "      <td>1.170035e+08</td>\n",
       "      <td>31.381405</td>\n",
       "      <td>575.619058</td>\n",
       "      <td>0.935142</td>\n",
       "      <td>12.812941</td>\n",
       "      <td>3.430616e+07</td>\n",
       "      <td>1.446325e+08</td>\n",
       "    </tr>\n",
       "    <tr>\n",
       "      <th>min</th>\n",
       "      <td>5.000000</td>\n",
       "      <td>0.000065</td>\n",
       "      <td>0.000000e+00</td>\n",
       "      <td>0.000000e+00</td>\n",
       "      <td>0.000000</td>\n",
       "      <td>10.000000</td>\n",
       "      <td>1.500000</td>\n",
       "      <td>1960.000000</td>\n",
       "      <td>0.000000e+00</td>\n",
       "      <td>0.000000e+00</td>\n",
       "    </tr>\n",
       "    <tr>\n",
       "      <th>25%</th>\n",
       "      <td>10596.250000</td>\n",
       "      <td>0.207583</td>\n",
       "      <td>0.000000e+00</td>\n",
       "      <td>0.000000e+00</td>\n",
       "      <td>90.000000</td>\n",
       "      <td>17.000000</td>\n",
       "      <td>5.400000</td>\n",
       "      <td>1995.000000</td>\n",
       "      <td>0.000000e+00</td>\n",
       "      <td>0.000000e+00</td>\n",
       "    </tr>\n",
       "    <tr>\n",
       "      <th>50%</th>\n",
       "      <td>20669.000000</td>\n",
       "      <td>0.383856</td>\n",
       "      <td>0.000000e+00</td>\n",
       "      <td>0.000000e+00</td>\n",
       "      <td>99.000000</td>\n",
       "      <td>38.000000</td>\n",
       "      <td>6.000000</td>\n",
       "      <td>2006.000000</td>\n",
       "      <td>0.000000e+00</td>\n",
       "      <td>0.000000e+00</td>\n",
       "    </tr>\n",
       "    <tr>\n",
       "      <th>75%</th>\n",
       "      <td>75610.000000</td>\n",
       "      <td>0.713817</td>\n",
       "      <td>1.500000e+07</td>\n",
       "      <td>2.400000e+07</td>\n",
       "      <td>111.000000</td>\n",
       "      <td>145.750000</td>\n",
       "      <td>6.600000</td>\n",
       "      <td>2011.000000</td>\n",
       "      <td>2.085325e+07</td>\n",
       "      <td>3.369710e+07</td>\n",
       "    </tr>\n",
       "    <tr>\n",
       "      <th>max</th>\n",
       "      <td>417859.000000</td>\n",
       "      <td>32.985763</td>\n",
       "      <td>4.250000e+08</td>\n",
       "      <td>2.781506e+09</td>\n",
       "      <td>900.000000</td>\n",
       "      <td>9767.000000</td>\n",
       "      <td>9.200000</td>\n",
       "      <td>2015.000000</td>\n",
       "      <td>4.250000e+08</td>\n",
       "      <td>2.827124e+09</td>\n",
       "    </tr>\n",
       "  </tbody>\n",
       "</table>\n",
       "</div>"
      ],
      "text/plain": [
       "                  id    popularity        budget       revenue       runtime  \\\n",
       "count   10866.000000  10866.000000  1.086600e+04  1.086600e+04  10866.000000   \n",
       "mean    66064.177434      0.646441  1.462570e+07  3.982332e+07    102.070863   \n",
       "std     92130.136561      1.000185  3.091321e+07  1.170035e+08     31.381405   \n",
       "min         5.000000      0.000065  0.000000e+00  0.000000e+00      0.000000   \n",
       "25%     10596.250000      0.207583  0.000000e+00  0.000000e+00     90.000000   \n",
       "50%     20669.000000      0.383856  0.000000e+00  0.000000e+00     99.000000   \n",
       "75%     75610.000000      0.713817  1.500000e+07  2.400000e+07    111.000000   \n",
       "max    417859.000000     32.985763  4.250000e+08  2.781506e+09    900.000000   \n",
       "\n",
       "         vote_count  vote_average  release_year    budget_adj   revenue_adj  \n",
       "count  10866.000000  10866.000000  10866.000000  1.086600e+04  1.086600e+04  \n",
       "mean     217.389748      5.974922   2001.322658  1.755104e+07  5.136436e+07  \n",
       "std      575.619058      0.935142     12.812941  3.430616e+07  1.446325e+08  \n",
       "min       10.000000      1.500000   1960.000000  0.000000e+00  0.000000e+00  \n",
       "25%       17.000000      5.400000   1995.000000  0.000000e+00  0.000000e+00  \n",
       "50%       38.000000      6.000000   2006.000000  0.000000e+00  0.000000e+00  \n",
       "75%      145.750000      6.600000   2011.000000  2.085325e+07  3.369710e+07  \n",
       "max     9767.000000      9.200000   2015.000000  4.250000e+08  2.827124e+09  "
      ]
     },
     "execution_count": 9,
     "metadata": {},
     "output_type": "execute_result"
    }
   ],
   "source": [
    "df.describe()"
   ]
  },
  {
   "cell_type": "markdown",
   "metadata": {},
   "source": [
    "If we look at the popularity column, we can find some outliers. since it has no upperbond, it is better to just retain the original data. We can see that there is a lot of zero values in the budget, revenue and runtime columns. The first guess might be that these movies were not released but if we look at the release_year column we can notice that the minimum value (1996) is avalid year and that there were no null values. Therefore those movies were released. May be the zeroes mean the abscence of data. However, in order to decide on that let's check closely those records\n",
    "\n",
    "First for the budget"
   ]
  },
  {
   "cell_type": "code",
   "execution_count": 10,
   "metadata": {},
   "outputs": [
    {
     "data": {
      "text/html": [
       "<div>\n",
       "<style scoped>\n",
       "    .dataframe tbody tr th:only-of-type {\n",
       "        vertical-align: middle;\n",
       "    }\n",
       "\n",
       "    .dataframe tbody tr th {\n",
       "        vertical-align: top;\n",
       "    }\n",
       "\n",
       "    .dataframe thead th {\n",
       "        text-align: right;\n",
       "    }\n",
       "</style>\n",
       "<table border=\"1\" class=\"dataframe\">\n",
       "  <thead>\n",
       "    <tr style=\"text-align: right;\">\n",
       "      <th></th>\n",
       "      <th>id</th>\n",
       "      <th>imdb_id</th>\n",
       "      <th>popularity</th>\n",
       "      <th>budget</th>\n",
       "      <th>revenue</th>\n",
       "      <th>original_title</th>\n",
       "      <th>cast</th>\n",
       "      <th>homepage</th>\n",
       "      <th>director</th>\n",
       "      <th>tagline</th>\n",
       "      <th>...</th>\n",
       "      <th>overview</th>\n",
       "      <th>runtime</th>\n",
       "      <th>genres</th>\n",
       "      <th>production_companies</th>\n",
       "      <th>release_date</th>\n",
       "      <th>vote_count</th>\n",
       "      <th>vote_average</th>\n",
       "      <th>release_year</th>\n",
       "      <th>budget_adj</th>\n",
       "      <th>revenue_adj</th>\n",
       "    </tr>\n",
       "  </thead>\n",
       "  <tbody>\n",
       "    <tr>\n",
       "      <th>30</th>\n",
       "      <td>280996</td>\n",
       "      <td>tt3168230</td>\n",
       "      <td>3.927333</td>\n",
       "      <td>0</td>\n",
       "      <td>29355203</td>\n",
       "      <td>Mr. Holmes</td>\n",
       "      <td>Ian McKellen|Milo Parker|Laura Linney|Hattie M...</td>\n",
       "      <td>http://www.mrholmesfilm.com/</td>\n",
       "      <td>Bill Condon</td>\n",
       "      <td>The man behind the myth</td>\n",
       "      <td>...</td>\n",
       "      <td>The story is set in 1947, following a long-ret...</td>\n",
       "      <td>103</td>\n",
       "      <td>Mystery|Drama</td>\n",
       "      <td>BBC Films|See-Saw Films|FilmNation Entertainme...</td>\n",
       "      <td>6/19/15</td>\n",
       "      <td>425</td>\n",
       "      <td>6.4</td>\n",
       "      <td>2015</td>\n",
       "      <td>0.0</td>\n",
       "      <td>2.700677e+07</td>\n",
       "    </tr>\n",
       "    <tr>\n",
       "      <th>36</th>\n",
       "      <td>339527</td>\n",
       "      <td>tt1291570</td>\n",
       "      <td>3.358321</td>\n",
       "      <td>0</td>\n",
       "      <td>22354572</td>\n",
       "      <td>Solace</td>\n",
       "      <td>Abbie Cornish|Jeffrey Dean Morgan|Colin Farrel...</td>\n",
       "      <td>NaN</td>\n",
       "      <td>Afonso Poyart</td>\n",
       "      <td>A serial killer who can see your future, a psy...</td>\n",
       "      <td>...</td>\n",
       "      <td>A psychic doctor, John Clancy, works with an F...</td>\n",
       "      <td>101</td>\n",
       "      <td>Crime|Drama|Mystery</td>\n",
       "      <td>Eden Rock Media|FilmNation Entertainment|Flynn...</td>\n",
       "      <td>9/3/15</td>\n",
       "      <td>474</td>\n",
       "      <td>6.2</td>\n",
       "      <td>2015</td>\n",
       "      <td>0.0</td>\n",
       "      <td>2.056620e+07</td>\n",
       "    </tr>\n",
       "    <tr>\n",
       "      <th>72</th>\n",
       "      <td>284289</td>\n",
       "      <td>tt2911668</td>\n",
       "      <td>2.272044</td>\n",
       "      <td>0</td>\n",
       "      <td>45895</td>\n",
       "      <td>Beyond the Reach</td>\n",
       "      <td>Michael Douglas|Jeremy Irvine|Hanna Mangan Law...</td>\n",
       "      <td>NaN</td>\n",
       "      <td>Jean-Baptiste LÃ©onetti</td>\n",
       "      <td>NaN</td>\n",
       "      <td>...</td>\n",
       "      <td>A high-rolling corporate shark and his impover...</td>\n",
       "      <td>95</td>\n",
       "      <td>Thriller</td>\n",
       "      <td>Furthur Films</td>\n",
       "      <td>4/17/15</td>\n",
       "      <td>81</td>\n",
       "      <td>5.5</td>\n",
       "      <td>2015</td>\n",
       "      <td>0.0</td>\n",
       "      <td>4.222338e+04</td>\n",
       "    </tr>\n",
       "  </tbody>\n",
       "</table>\n",
       "<p>3 rows × 21 columns</p>\n",
       "</div>"
      ],
      "text/plain": [
       "        id    imdb_id  popularity  budget   revenue    original_title  \\\n",
       "30  280996  tt3168230    3.927333       0  29355203        Mr. Holmes   \n",
       "36  339527  tt1291570    3.358321       0  22354572            Solace   \n",
       "72  284289  tt2911668    2.272044       0     45895  Beyond the Reach   \n",
       "\n",
       "                                                 cast  \\\n",
       "30  Ian McKellen|Milo Parker|Laura Linney|Hattie M...   \n",
       "36  Abbie Cornish|Jeffrey Dean Morgan|Colin Farrel...   \n",
       "72  Michael Douglas|Jeremy Irvine|Hanna Mangan Law...   \n",
       "\n",
       "                        homepage                 director  \\\n",
       "30  http://www.mrholmesfilm.com/              Bill Condon   \n",
       "36                           NaN            Afonso Poyart   \n",
       "72                           NaN  Jean-Baptiste LÃ©onetti   \n",
       "\n",
       "                                              tagline  ...  \\\n",
       "30                            The man behind the myth  ...   \n",
       "36  A serial killer who can see your future, a psy...  ...   \n",
       "72                                                NaN  ...   \n",
       "\n",
       "                                             overview runtime  \\\n",
       "30  The story is set in 1947, following a long-ret...     103   \n",
       "36  A psychic doctor, John Clancy, works with an F...     101   \n",
       "72  A high-rolling corporate shark and his impover...      95   \n",
       "\n",
       "                 genres                               production_companies  \\\n",
       "30        Mystery|Drama  BBC Films|See-Saw Films|FilmNation Entertainme...   \n",
       "36  Crime|Drama|Mystery  Eden Rock Media|FilmNation Entertainment|Flynn...   \n",
       "72             Thriller                                      Furthur Films   \n",
       "\n",
       "   release_date vote_count  vote_average  release_year  budget_adj  \\\n",
       "30      6/19/15        425           6.4          2015         0.0   \n",
       "36       9/3/15        474           6.2          2015         0.0   \n",
       "72      4/17/15         81           5.5          2015         0.0   \n",
       "\n",
       "     revenue_adj  \n",
       "30  2.700677e+07  \n",
       "36  2.056620e+07  \n",
       "72  4.222338e+04  \n",
       "\n",
       "[3 rows x 21 columns]"
      ]
     },
     "execution_count": 10,
     "metadata": {},
     "output_type": "execute_result"
    }
   ],
   "source": [
    "df_budget_zero = df.query('budget == 0')\n",
    "df_budget_zero.head(3)"
   ]
  },
  {
   "cell_type": "markdown",
   "metadata": {},
   "source": [
    "Then for the revenue"
   ]
  },
  {
   "cell_type": "code",
   "execution_count": 11,
   "metadata": {},
   "outputs": [
    {
     "data": {
      "text/html": [
       "<div>\n",
       "<style scoped>\n",
       "    .dataframe tbody tr th:only-of-type {\n",
       "        vertical-align: middle;\n",
       "    }\n",
       "\n",
       "    .dataframe tbody tr th {\n",
       "        vertical-align: top;\n",
       "    }\n",
       "\n",
       "    .dataframe thead th {\n",
       "        text-align: right;\n",
       "    }\n",
       "</style>\n",
       "<table border=\"1\" class=\"dataframe\">\n",
       "  <thead>\n",
       "    <tr style=\"text-align: right;\">\n",
       "      <th></th>\n",
       "      <th>id</th>\n",
       "      <th>imdb_id</th>\n",
       "      <th>popularity</th>\n",
       "      <th>budget</th>\n",
       "      <th>revenue</th>\n",
       "      <th>original_title</th>\n",
       "      <th>cast</th>\n",
       "      <th>homepage</th>\n",
       "      <th>director</th>\n",
       "      <th>tagline</th>\n",
       "      <th>...</th>\n",
       "      <th>overview</th>\n",
       "      <th>runtime</th>\n",
       "      <th>genres</th>\n",
       "      <th>production_companies</th>\n",
       "      <th>release_date</th>\n",
       "      <th>vote_count</th>\n",
       "      <th>vote_average</th>\n",
       "      <th>release_year</th>\n",
       "      <th>budget_adj</th>\n",
       "      <th>revenue_adj</th>\n",
       "    </tr>\n",
       "  </thead>\n",
       "  <tbody>\n",
       "    <tr>\n",
       "      <th>48</th>\n",
       "      <td>265208</td>\n",
       "      <td>tt2231253</td>\n",
       "      <td>2.932340</td>\n",
       "      <td>30000000</td>\n",
       "      <td>0</td>\n",
       "      <td>Wild Card</td>\n",
       "      <td>Jason Statham|Michael Angarano|Milo Ventimigli...</td>\n",
       "      <td>NaN</td>\n",
       "      <td>Simon West</td>\n",
       "      <td>Never bet against a man with a killer hand.</td>\n",
       "      <td>...</td>\n",
       "      <td>When a Las Vegas bodyguard with lethal skills ...</td>\n",
       "      <td>92</td>\n",
       "      <td>Thriller|Crime|Drama</td>\n",
       "      <td>Current Entertainment|Lionsgate|Sierra / Affin...</td>\n",
       "      <td>1/14/15</td>\n",
       "      <td>481</td>\n",
       "      <td>5.3</td>\n",
       "      <td>2015</td>\n",
       "      <td>2.759999e+07</td>\n",
       "      <td>0.0</td>\n",
       "    </tr>\n",
       "    <tr>\n",
       "      <th>67</th>\n",
       "      <td>334074</td>\n",
       "      <td>tt3247714</td>\n",
       "      <td>2.331636</td>\n",
       "      <td>20000000</td>\n",
       "      <td>0</td>\n",
       "      <td>Survivor</td>\n",
       "      <td>Pierce Brosnan|Milla Jovovich|Dylan McDermott|...</td>\n",
       "      <td>http://survivormovie.com/</td>\n",
       "      <td>James McTeigue</td>\n",
       "      <td>His Next Target is Now Hunting Him</td>\n",
       "      <td>...</td>\n",
       "      <td>A Foreign Service Officer in London tries to p...</td>\n",
       "      <td>96</td>\n",
       "      <td>Crime|Thriller|Action</td>\n",
       "      <td>Nu Image Films|Winkler Films|Millennium Films|...</td>\n",
       "      <td>5/21/15</td>\n",
       "      <td>280</td>\n",
       "      <td>5.4</td>\n",
       "      <td>2015</td>\n",
       "      <td>1.839999e+07</td>\n",
       "      <td>0.0</td>\n",
       "    </tr>\n",
       "    <tr>\n",
       "      <th>74</th>\n",
       "      <td>347096</td>\n",
       "      <td>tt3478232</td>\n",
       "      <td>2.165433</td>\n",
       "      <td>0</td>\n",
       "      <td>0</td>\n",
       "      <td>Mythica: The Darkspore</td>\n",
       "      <td>Melanie Stone|Kevin Sorbo|Adam Johnson|Jake St...</td>\n",
       "      <td>http://www.mythicamovie.com/#!blank/wufvh</td>\n",
       "      <td>Anne K. Black</td>\n",
       "      <td>NaN</td>\n",
       "      <td>...</td>\n",
       "      <td>When Teelaâ€™s sister is murdered and a powerf...</td>\n",
       "      <td>108</td>\n",
       "      <td>Action|Adventure|Fantasy</td>\n",
       "      <td>Arrowstorm Entertainment</td>\n",
       "      <td>6/24/15</td>\n",
       "      <td>27</td>\n",
       "      <td>5.1</td>\n",
       "      <td>2015</td>\n",
       "      <td>0.000000e+00</td>\n",
       "      <td>0.0</td>\n",
       "    </tr>\n",
       "  </tbody>\n",
       "</table>\n",
       "<p>3 rows × 21 columns</p>\n",
       "</div>"
      ],
      "text/plain": [
       "        id    imdb_id  popularity    budget  revenue          original_title  \\\n",
       "48  265208  tt2231253    2.932340  30000000        0               Wild Card   \n",
       "67  334074  tt3247714    2.331636  20000000        0                Survivor   \n",
       "74  347096  tt3478232    2.165433         0        0  Mythica: The Darkspore   \n",
       "\n",
       "                                                 cast  \\\n",
       "48  Jason Statham|Michael Angarano|Milo Ventimigli...   \n",
       "67  Pierce Brosnan|Milla Jovovich|Dylan McDermott|...   \n",
       "74  Melanie Stone|Kevin Sorbo|Adam Johnson|Jake St...   \n",
       "\n",
       "                                     homepage        director  \\\n",
       "48                                        NaN      Simon West   \n",
       "67                  http://survivormovie.com/  James McTeigue   \n",
       "74  http://www.mythicamovie.com/#!blank/wufvh   Anne K. Black   \n",
       "\n",
       "                                        tagline  ...  \\\n",
       "48  Never bet against a man with a killer hand.  ...   \n",
       "67           His Next Target is Now Hunting Him  ...   \n",
       "74                                          NaN  ...   \n",
       "\n",
       "                                             overview runtime  \\\n",
       "48  When a Las Vegas bodyguard with lethal skills ...      92   \n",
       "67  A Foreign Service Officer in London tries to p...      96   \n",
       "74  When Teelaâ€™s sister is murdered and a powerf...     108   \n",
       "\n",
       "                      genres  \\\n",
       "48      Thriller|Crime|Drama   \n",
       "67     Crime|Thriller|Action   \n",
       "74  Action|Adventure|Fantasy   \n",
       "\n",
       "                                 production_companies release_date vote_count  \\\n",
       "48  Current Entertainment|Lionsgate|Sierra / Affin...      1/14/15        481   \n",
       "67  Nu Image Films|Winkler Films|Millennium Films|...      5/21/15        280   \n",
       "74                           Arrowstorm Entertainment      6/24/15         27   \n",
       "\n",
       "    vote_average  release_year    budget_adj  revenue_adj  \n",
       "48           5.3          2015  2.759999e+07          0.0  \n",
       "67           5.4          2015  1.839999e+07          0.0  \n",
       "74           5.1          2015  0.000000e+00          0.0  \n",
       "\n",
       "[3 rows x 21 columns]"
      ]
     },
     "execution_count": 11,
     "metadata": {},
     "output_type": "execute_result"
    }
   ],
   "source": [
    "df_revenue_zero = df.query('revenue == 0')\n",
    "df_revenue_zero.head(3)"
   ]
  },
  {
   "cell_type": "markdown",
   "metadata": {},
   "source": [
    "After checking for Mr Afonso poyart on the film [Solace](https://en.wikipedia.org/wiki/Solace_(2015_film)#Production) on wikkipedia, I noteiced that the film was actually a success. WHich means that there was a sucessful release wich also means that there was a budget. Therefore, the zero values were missing data. I would decide based on that to drop the records since this might affect the statistics od the result of my analysis.  \n",
    "\n",
    "Subsequently, lets check the number of null values to decide if the zeros should just be set as ull or completely droped out.\n",
    "\n",
    "###### First for the budget zero values"
   ]
  },
  {
   "cell_type": "code",
   "execution_count": 12,
   "metadata": {},
   "outputs": [
    {
     "data": {
      "text/plain": [
       "budget\n",
       "0    5696\n",
       "1       4\n",
       "Name: id, dtype: int64"
      ]
     },
     "execution_count": 12,
     "metadata": {},
     "output_type": "execute_result"
    }
   ],
   "source": [
    "df_budget_0count =  df.groupby('budget').count()['id']\n",
    "df_budget_0count.head(2)"
   ]
  },
  {
   "cell_type": "markdown",
   "metadata": {},
   "source": [
    "As suggested by the results, there are a lot of zero values than non zero values. Dropping them out would corrupt the results. I better set them as null instead.\n",
    "\n",
    "##### Then for the revenue zero values"
   ]
  },
  {
   "cell_type": "code",
   "execution_count": 13,
   "metadata": {},
   "outputs": [
    {
     "data": {
      "text/plain": [
       "revenue\n",
       "0    6016\n",
       "2       2\n",
       "Name: id, dtype: int64"
      ]
     },
     "execution_count": 13,
     "metadata": {},
     "output_type": "execute_result"
    }
   ],
   "source": [
    "df_revenue_0count =  df.groupby('revenue').count()['id']\n",
    "df_revenue_0count.head(2)"
   ]
  },
  {
   "cell_type": "markdown",
   "metadata": {},
   "source": [
    "Same situation. Set to null\n",
    "\n",
    "##### Finally for the runtime"
   ]
  },
  {
   "cell_type": "code",
   "execution_count": 14,
   "metadata": {},
   "outputs": [
    {
     "data": {
      "text/plain": [
       "runtime\n",
       "0    31\n",
       "2     5\n",
       "Name: id, dtype: int64"
      ]
     },
     "execution_count": 14,
     "metadata": {},
     "output_type": "execute_result"
    }
   ],
   "source": [
    "df_runtime_0count =  df.groupby('runtime').count()['id']\n",
    "df_runtime_0count.head(2)"
   ]
  },
  {
   "cell_type": "markdown",
   "metadata": {},
   "source": [
    "The number of zeroes is negligible, they can be droupped out\n",
    "\n",
    "#### Summary \n",
    "\n",
    "* Remove some columns with a lot of null values and unnecessary ones for answering the questions : homepage, tagline, imdb_id, overview, budget_adj, revenue_adj.\n",
    "* Remove duplicated data \n",
    "* Remove all null values in the columns that have null values\n",
    "* Replace zero values with null values in the budget and revenue column.\n",
    "* Drop the lines with runtime == 0."
   ]
  },
  {
   "cell_type": "markdown",
   "metadata": {},
   "source": [
    "### Data Cleaning"
   ]
  },
  {
   "cell_type": "markdown",
   "metadata": {},
   "source": [
    "#### Step 1. Remove some columns with a lot of null values and unnecessary ones for answering the questions : homepage, tagline, imdb_id, overview, budget_adj, revenue_adj."
   ]
  },
  {
   "cell_type": "code",
   "execution_count": 17,
   "metadata": {},
   "outputs": [
    {
     "data": {
      "text/html": [
       "<div>\n",
       "<style scoped>\n",
       "    .dataframe tbody tr th:only-of-type {\n",
       "        vertical-align: middle;\n",
       "    }\n",
       "\n",
       "    .dataframe tbody tr th {\n",
       "        vertical-align: top;\n",
       "    }\n",
       "\n",
       "    .dataframe thead th {\n",
       "        text-align: right;\n",
       "    }\n",
       "</style>\n",
       "<table border=\"1\" class=\"dataframe\">\n",
       "  <thead>\n",
       "    <tr style=\"text-align: right;\">\n",
       "      <th></th>\n",
       "      <th>id</th>\n",
       "      <th>popularity</th>\n",
       "      <th>budget</th>\n",
       "      <th>revenue</th>\n",
       "      <th>original_title</th>\n",
       "      <th>cast</th>\n",
       "      <th>director</th>\n",
       "      <th>keywords</th>\n",
       "      <th>runtime</th>\n",
       "      <th>genres</th>\n",
       "      <th>production_companies</th>\n",
       "      <th>release_date</th>\n",
       "      <th>vote_count</th>\n",
       "      <th>vote_average</th>\n",
       "      <th>release_year</th>\n",
       "    </tr>\n",
       "  </thead>\n",
       "  <tbody>\n",
       "    <tr>\n",
       "      <th>0</th>\n",
       "      <td>135397</td>\n",
       "      <td>32.985763</td>\n",
       "      <td>150000000</td>\n",
       "      <td>1513528810</td>\n",
       "      <td>Jurassic World</td>\n",
       "      <td>Chris Pratt|Bryce Dallas Howard|Irrfan Khan|Vi...</td>\n",
       "      <td>Colin Trevorrow</td>\n",
       "      <td>monster|dna|tyrannosaurus rex|velociraptor|island</td>\n",
       "      <td>124</td>\n",
       "      <td>Action|Adventure|Science Fiction|Thriller</td>\n",
       "      <td>Universal Studios|Amblin Entertainment|Legenda...</td>\n",
       "      <td>6/9/15</td>\n",
       "      <td>5562</td>\n",
       "      <td>6.5</td>\n",
       "      <td>2015</td>\n",
       "    </tr>\n",
       "  </tbody>\n",
       "</table>\n",
       "</div>"
      ],
      "text/plain": [
       "       id  popularity     budget     revenue  original_title  \\\n",
       "0  135397   32.985763  150000000  1513528810  Jurassic World   \n",
       "\n",
       "                                                cast         director  \\\n",
       "0  Chris Pratt|Bryce Dallas Howard|Irrfan Khan|Vi...  Colin Trevorrow   \n",
       "\n",
       "                                            keywords  runtime  \\\n",
       "0  monster|dna|tyrannosaurus rex|velociraptor|island      124   \n",
       "\n",
       "                                      genres  \\\n",
       "0  Action|Adventure|Science Fiction|Thriller   \n",
       "\n",
       "                                production_companies release_date  vote_count  \\\n",
       "0  Universal Studios|Amblin Entertainment|Legenda...       6/9/15        5562   \n",
       "\n",
       "   vote_average  release_year  \n",
       "0           6.5          2015  "
      ]
     },
     "execution_count": 17,
     "metadata": {},
     "output_type": "execute_result"
    }
   ],
   "source": [
    "# After discussing the structure of the data and any problems that need to be\n",
    "#   cleaned, perform those cleaning steps in the second part of this section.\n",
    "col = ['imdb_id', 'homepage', 'tagline', 'overview', 'budget_adj', 'revenue_adj']\n",
    "df.drop(col, axis=1, inplace=True)\n",
    "df.head(1)"
   ]
  },
  {
   "cell_type": "markdown",
   "metadata": {},
   "source": [
    "#### Step 2. Remove duplicated data"
   ]
  },
  {
   "cell_type": "code",
   "execution_count": 18,
   "metadata": {},
   "outputs": [],
   "source": [
    "df.drop_duplicates(inplace=True)"
   ]
  },
  {
   "cell_type": "markdown",
   "metadata": {},
   "source": [
    "#### Step 3. Remove all null values in the columns that have null values"
   ]
  },
  {
   "cell_type": "code",
   "execution_count": 22,
   "metadata": {},
   "outputs": [
    {
     "data": {
      "text/html": [
       "<div>\n",
       "<style scoped>\n",
       "    .dataframe tbody tr th:only-of-type {\n",
       "        vertical-align: middle;\n",
       "    }\n",
       "\n",
       "    .dataframe tbody tr th {\n",
       "        vertical-align: top;\n",
       "    }\n",
       "\n",
       "    .dataframe thead th {\n",
       "        text-align: right;\n",
       "    }\n",
       "</style>\n",
       "<table border=\"1\" class=\"dataframe\">\n",
       "  <thead>\n",
       "    <tr style=\"text-align: right;\">\n",
       "      <th></th>\n",
       "      <th>id</th>\n",
       "      <th>popularity</th>\n",
       "      <th>budget</th>\n",
       "      <th>revenue</th>\n",
       "      <th>original_title</th>\n",
       "      <th>cast</th>\n",
       "      <th>director</th>\n",
       "      <th>keywords</th>\n",
       "      <th>runtime</th>\n",
       "      <th>genres</th>\n",
       "      <th>production_companies</th>\n",
       "      <th>release_date</th>\n",
       "      <th>vote_count</th>\n",
       "      <th>vote_average</th>\n",
       "      <th>release_year</th>\n",
       "    </tr>\n",
       "  </thead>\n",
       "  <tbody>\n",
       "    <tr>\n",
       "      <th>0</th>\n",
       "      <td>135397</td>\n",
       "      <td>32.985763</td>\n",
       "      <td>150000000</td>\n",
       "      <td>1513528810</td>\n",
       "      <td>Jurassic World</td>\n",
       "      <td>Chris Pratt|Bryce Dallas Howard|Irrfan Khan|Vi...</td>\n",
       "      <td>Colin Trevorrow</td>\n",
       "      <td>monster|dna|tyrannosaurus rex|velociraptor|island</td>\n",
       "      <td>124</td>\n",
       "      <td>Action|Adventure|Science Fiction|Thriller</td>\n",
       "      <td>Universal Studios|Amblin Entertainment|Legenda...</td>\n",
       "      <td>6/9/15</td>\n",
       "      <td>5562</td>\n",
       "      <td>6.5</td>\n",
       "      <td>2015</td>\n",
       "    </tr>\n",
       "  </tbody>\n",
       "</table>\n",
       "</div>"
      ],
      "text/plain": [
       "       id  popularity     budget     revenue  original_title  \\\n",
       "0  135397   32.985763  150000000  1513528810  Jurassic World   \n",
       "\n",
       "                                                cast         director  \\\n",
       "0  Chris Pratt|Bryce Dallas Howard|Irrfan Khan|Vi...  Colin Trevorrow   \n",
       "\n",
       "                                            keywords  runtime  \\\n",
       "0  monster|dna|tyrannosaurus rex|velociraptor|island      124   \n",
       "\n",
       "                                      genres  \\\n",
       "0  Action|Adventure|Science Fiction|Thriller   \n",
       "\n",
       "                                production_companies release_date  vote_count  \\\n",
       "0  Universal Studios|Amblin Entertainment|Legenda...       6/9/15        5562   \n",
       "\n",
       "   vote_average  release_year  \n",
       "0           6.5          2015  "
      ]
     },
     "execution_count": 22,
     "metadata": {},
     "output_type": "execute_result"
    }
   ],
   "source": [
    "cells = ['cast', 'director', 'genres']\n",
    "df.dropna(subset = cells, how='any', inplace=True)\n",
    "df.head(1)"
   ]
  },
  {
   "cell_type": "markdown",
   "metadata": {},
   "source": [
    "Let's check if there are still null values"
   ]
  },
  {
   "cell_type": "code",
   "execution_count": 23,
   "metadata": {},
   "outputs": [
    {
     "data": {
      "text/plain": [
       "id                         0\n",
       "popularity                 0\n",
       "budget                     0\n",
       "revenue                    0\n",
       "original_title             0\n",
       "cast                       0\n",
       "director                   0\n",
       "keywords                1425\n",
       "runtime                    0\n",
       "genres                     0\n",
       "production_companies     959\n",
       "release_date               0\n",
       "vote_count                 0\n",
       "vote_average               0\n",
       "release_year               0\n",
       "dtype: int64"
      ]
     },
     "execution_count": 23,
     "metadata": {},
     "output_type": "execute_result"
    }
   ],
   "source": [
    "df.isnull().sum()"
   ]
  },
  {
   "cell_type": "markdown",
   "metadata": {},
   "source": [
    "#### Step 4. Replace zero values with null values in the budget and revenue column."
   ]
  },
  {
   "cell_type": "code",
   "execution_count": 24,
   "metadata": {},
   "outputs": [
    {
     "name": "stdout",
     "output_type": "stream",
     "text": [
      "<class 'pandas.core.frame.DataFrame'>\n",
      "Int64Index: 10731 entries, 0 to 10865\n",
      "Data columns (total 15 columns):\n",
      " #   Column                Non-Null Count  Dtype  \n",
      "---  ------                --------------  -----  \n",
      " 0   id                    10731 non-null  int64  \n",
      " 1   popularity            10731 non-null  float64\n",
      " 2   budget                5153 non-null   float64\n",
      " 3   revenue               4843 non-null   float64\n",
      " 4   original_title        10731 non-null  object \n",
      " 5   cast                  10731 non-null  object \n",
      " 6   director              10731 non-null  object \n",
      " 7   keywords              9306 non-null   object \n",
      " 8   runtime               10731 non-null  int64  \n",
      " 9   genres                10731 non-null  object \n",
      " 10  production_companies  9772 non-null   object \n",
      " 11  release_date          10731 non-null  object \n",
      " 12  vote_count            10731 non-null  int64  \n",
      " 13  vote_average          10731 non-null  float64\n",
      " 14  release_year          10731 non-null  int64  \n",
      "dtypes: float64(4), int64(4), object(7)\n",
      "memory usage: 1.3+ MB\n"
     ]
    }
   ],
   "source": [
    "df['budget'] = df['budget'].replace(0, np.NaN)\n",
    "df['revenue'] = df['revenue'].replace(0, np.NaN)\n",
    "# Let's check if nulls are added in budget and revenue columns\n",
    "df.info()"
   ]
  },
  {
   "cell_type": "markdown",
   "metadata": {},
   "source": [
    "#### Step 5. Drop the runtime column."
   ]
  },
  {
   "cell_type": "code",
   "execution_count": 27,
   "metadata": {},
   "outputs": [
    {
     "data": {
      "text/html": [
       "<div>\n",
       "<style scoped>\n",
       "    .dataframe tbody tr th:only-of-type {\n",
       "        vertical-align: middle;\n",
       "    }\n",
       "\n",
       "    .dataframe tbody tr th {\n",
       "        vertical-align: top;\n",
       "    }\n",
       "\n",
       "    .dataframe thead th {\n",
       "        text-align: right;\n",
       "    }\n",
       "</style>\n",
       "<table border=\"1\" class=\"dataframe\">\n",
       "  <thead>\n",
       "    <tr style=\"text-align: right;\">\n",
       "      <th></th>\n",
       "      <th>id</th>\n",
       "      <th>popularity</th>\n",
       "      <th>budget</th>\n",
       "      <th>revenue</th>\n",
       "      <th>original_title</th>\n",
       "      <th>cast</th>\n",
       "      <th>director</th>\n",
       "      <th>keywords</th>\n",
       "      <th>runtime</th>\n",
       "      <th>genres</th>\n",
       "      <th>production_companies</th>\n",
       "      <th>release_date</th>\n",
       "      <th>vote_count</th>\n",
       "      <th>vote_average</th>\n",
       "      <th>release_year</th>\n",
       "    </tr>\n",
       "  </thead>\n",
       "  <tbody>\n",
       "  </tbody>\n",
       "</table>\n",
       "</div>"
      ],
      "text/plain": [
       "Empty DataFrame\n",
       "Columns: [id, popularity, budget, revenue, original_title, cast, director, keywords, runtime, genres, production_companies, release_date, vote_count, vote_average, release_year]\n",
       "Index: []"
      ]
     },
     "execution_count": 27,
     "metadata": {},
     "output_type": "execute_result"
    }
   ],
   "source": [
    "df.query('runtime != 0', inplace=True)\n",
    "df.query('runtime == 0')"
   ]
  },
  {
   "cell_type": "markdown",
   "metadata": {},
   "source": [
    "Let's now verify the info of the dataset"
   ]
  },
  {
   "cell_type": "code",
   "execution_count": 28,
   "metadata": {},
   "outputs": [
    {
     "name": "stdout",
     "output_type": "stream",
     "text": [
      "<class 'pandas.core.frame.DataFrame'>\n",
      "Int64Index: 10703 entries, 0 to 10865\n",
      "Data columns (total 15 columns):\n",
      " #   Column                Non-Null Count  Dtype  \n",
      "---  ------                --------------  -----  \n",
      " 0   id                    10703 non-null  int64  \n",
      " 1   popularity            10703 non-null  float64\n",
      " 2   budget                5150 non-null   float64\n",
      " 3   revenue               4843 non-null   float64\n",
      " 4   original_title        10703 non-null  object \n",
      " 5   cast                  10703 non-null  object \n",
      " 6   director              10703 non-null  object \n",
      " 7   keywords              9293 non-null   object \n",
      " 8   runtime               10703 non-null  int64  \n",
      " 9   genres                10703 non-null  object \n",
      " 10  production_companies  9759 non-null   object \n",
      " 11  release_date          10703 non-null  object \n",
      " 12  vote_count            10703 non-null  int64  \n",
      " 13  vote_average          10703 non-null  float64\n",
      " 14  release_year          10703 non-null  int64  \n",
      "dtypes: float64(4), int64(4), object(7)\n",
      "memory usage: 1.3+ MB\n"
     ]
    }
   ],
   "source": [
    "df.info()"
   ]
  },
  {
   "cell_type": "code",
   "execution_count": 29,
   "metadata": {},
   "outputs": [
    {
     "data": {
      "text/html": [
       "<div>\n",
       "<style scoped>\n",
       "    .dataframe tbody tr th:only-of-type {\n",
       "        vertical-align: middle;\n",
       "    }\n",
       "\n",
       "    .dataframe tbody tr th {\n",
       "        vertical-align: top;\n",
       "    }\n",
       "\n",
       "    .dataframe thead th {\n",
       "        text-align: right;\n",
       "    }\n",
       "</style>\n",
       "<table border=\"1\" class=\"dataframe\">\n",
       "  <thead>\n",
       "    <tr style=\"text-align: right;\">\n",
       "      <th></th>\n",
       "      <th>id</th>\n",
       "      <th>popularity</th>\n",
       "      <th>budget</th>\n",
       "      <th>revenue</th>\n",
       "      <th>runtime</th>\n",
       "      <th>vote_count</th>\n",
       "      <th>vote_average</th>\n",
       "      <th>release_year</th>\n",
       "    </tr>\n",
       "  </thead>\n",
       "  <tbody>\n",
       "    <tr>\n",
       "      <th>count</th>\n",
       "      <td>10703.000000</td>\n",
       "      <td>10703.000000</td>\n",
       "      <td>5.150000e+03</td>\n",
       "      <td>4.843000e+03</td>\n",
       "      <td>10703.000000</td>\n",
       "      <td>10703.000000</td>\n",
       "      <td>10703.000000</td>\n",
       "      <td>10703.000000</td>\n",
       "    </tr>\n",
       "    <tr>\n",
       "      <th>mean</th>\n",
       "      <td>64904.988321</td>\n",
       "      <td>0.653818</td>\n",
       "      <td>3.084401e+07</td>\n",
       "      <td>8.933981e+07</td>\n",
       "      <td>102.736896</td>\n",
       "      <td>220.333178</td>\n",
       "      <td>5.966112</td>\n",
       "      <td>2001.235355</td>\n",
       "    </tr>\n",
       "    <tr>\n",
       "      <th>std</th>\n",
       "      <td>91161.996308</td>\n",
       "      <td>1.005687</td>\n",
       "      <td>3.893782e+07</td>\n",
       "      <td>1.621546e+08</td>\n",
       "      <td>30.079331</td>\n",
       "      <td>579.481969</td>\n",
       "      <td>0.930155</td>\n",
       "      <td>12.825920</td>\n",
       "    </tr>\n",
       "    <tr>\n",
       "      <th>min</th>\n",
       "      <td>5.000000</td>\n",
       "      <td>0.000188</td>\n",
       "      <td>1.000000e+00</td>\n",
       "      <td>2.000000e+00</td>\n",
       "      <td>3.000000</td>\n",
       "      <td>10.000000</td>\n",
       "      <td>1.500000</td>\n",
       "      <td>1960.000000</td>\n",
       "    </tr>\n",
       "    <tr>\n",
       "      <th>25%</th>\n",
       "      <td>10538.500000</td>\n",
       "      <td>0.211533</td>\n",
       "      <td>6.000000e+06</td>\n",
       "      <td>7.779664e+06</td>\n",
       "      <td>90.000000</td>\n",
       "      <td>17.000000</td>\n",
       "      <td>5.400000</td>\n",
       "      <td>1995.000000</td>\n",
       "    </tr>\n",
       "    <tr>\n",
       "      <th>50%</th>\n",
       "      <td>20235.000000</td>\n",
       "      <td>0.388036</td>\n",
       "      <td>1.750000e+07</td>\n",
       "      <td>3.191160e+07</td>\n",
       "      <td>99.000000</td>\n",
       "      <td>39.000000</td>\n",
       "      <td>6.000000</td>\n",
       "      <td>2006.000000</td>\n",
       "    </tr>\n",
       "    <tr>\n",
       "      <th>75%</th>\n",
       "      <td>73637.000000</td>\n",
       "      <td>0.722438</td>\n",
       "      <td>4.000000e+07</td>\n",
       "      <td>1.000000e+08</td>\n",
       "      <td>112.000000</td>\n",
       "      <td>149.000000</td>\n",
       "      <td>6.600000</td>\n",
       "      <td>2011.000000</td>\n",
       "    </tr>\n",
       "    <tr>\n",
       "      <th>max</th>\n",
       "      <td>417859.000000</td>\n",
       "      <td>32.985763</td>\n",
       "      <td>4.250000e+08</td>\n",
       "      <td>2.781506e+09</td>\n",
       "      <td>900.000000</td>\n",
       "      <td>9767.000000</td>\n",
       "      <td>9.200000</td>\n",
       "      <td>2015.000000</td>\n",
       "    </tr>\n",
       "  </tbody>\n",
       "</table>\n",
       "</div>"
      ],
      "text/plain": [
       "                  id    popularity        budget       revenue       runtime  \\\n",
       "count   10703.000000  10703.000000  5.150000e+03  4.843000e+03  10703.000000   \n",
       "mean    64904.988321      0.653818  3.084401e+07  8.933981e+07    102.736896   \n",
       "std     91161.996308      1.005687  3.893782e+07  1.621546e+08     30.079331   \n",
       "min         5.000000      0.000188  1.000000e+00  2.000000e+00      3.000000   \n",
       "25%     10538.500000      0.211533  6.000000e+06  7.779664e+06     90.000000   \n",
       "50%     20235.000000      0.388036  1.750000e+07  3.191160e+07     99.000000   \n",
       "75%     73637.000000      0.722438  4.000000e+07  1.000000e+08    112.000000   \n",
       "max    417859.000000     32.985763  4.250000e+08  2.781506e+09    900.000000   \n",
       "\n",
       "         vote_count  vote_average  release_year  \n",
       "count  10703.000000  10703.000000  10703.000000  \n",
       "mean     220.333178      5.966112   2001.235355  \n",
       "std      579.481969      0.930155     12.825920  \n",
       "min       10.000000      1.500000   1960.000000  \n",
       "25%       17.000000      5.400000   1995.000000  \n",
       "50%       39.000000      6.000000   2006.000000  \n",
       "75%      149.000000      6.600000   2011.000000  \n",
       "max     9767.000000      9.200000   2015.000000  "
      ]
     },
     "execution_count": 29,
     "metadata": {},
     "output_type": "execute_result"
    }
   ],
   "source": [
    "df.describe()"
   ]
  },
  {
   "cell_type": "markdown",
   "metadata": {},
   "source": [
    "From the table above, we can see that replacing the zeros by null values in the `budget` and `revenue` distribution made them look better. We can also see that the minimum makes now more sense"
   ]
  },
  {
   "cell_type": "markdown",
   "metadata": {},
   "source": [
    "<a id='eda'></a>\n",
    "## Exploratory Data Analysis\n",
    "\n",
    "\n",
    "### Research Question 1. How was the popularity of a movie over the years ?\n",
    "\n",
    "let's have a look at the dataset"
   ]
  },
  {
   "cell_type": "code",
   "execution_count": 30,
   "metadata": {},
   "outputs": [
    {
     "data": {
      "text/html": [
       "<div>\n",
       "<style scoped>\n",
       "    .dataframe tbody tr th:only-of-type {\n",
       "        vertical-align: middle;\n",
       "    }\n",
       "\n",
       "    .dataframe tbody tr th {\n",
       "        vertical-align: top;\n",
       "    }\n",
       "\n",
       "    .dataframe thead th {\n",
       "        text-align: right;\n",
       "    }\n",
       "</style>\n",
       "<table border=\"1\" class=\"dataframe\">\n",
       "  <thead>\n",
       "    <tr style=\"text-align: right;\">\n",
       "      <th></th>\n",
       "      <th>id</th>\n",
       "      <th>popularity</th>\n",
       "      <th>budget</th>\n",
       "      <th>revenue</th>\n",
       "      <th>original_title</th>\n",
       "      <th>cast</th>\n",
       "      <th>director</th>\n",
       "      <th>keywords</th>\n",
       "      <th>runtime</th>\n",
       "      <th>genres</th>\n",
       "      <th>production_companies</th>\n",
       "      <th>release_date</th>\n",
       "      <th>vote_count</th>\n",
       "      <th>vote_average</th>\n",
       "      <th>release_year</th>\n",
       "    </tr>\n",
       "  </thead>\n",
       "  <tbody>\n",
       "    <tr>\n",
       "      <th>0</th>\n",
       "      <td>135397</td>\n",
       "      <td>32.985763</td>\n",
       "      <td>150000000.0</td>\n",
       "      <td>1.513529e+09</td>\n",
       "      <td>Jurassic World</td>\n",
       "      <td>Chris Pratt|Bryce Dallas Howard|Irrfan Khan|Vi...</td>\n",
       "      <td>Colin Trevorrow</td>\n",
       "      <td>monster|dna|tyrannosaurus rex|velociraptor|island</td>\n",
       "      <td>124</td>\n",
       "      <td>Action|Adventure|Science Fiction|Thriller</td>\n",
       "      <td>Universal Studios|Amblin Entertainment|Legenda...</td>\n",
       "      <td>6/9/15</td>\n",
       "      <td>5562</td>\n",
       "      <td>6.5</td>\n",
       "      <td>2015</td>\n",
       "    </tr>\n",
       "    <tr>\n",
       "      <th>1</th>\n",
       "      <td>76341</td>\n",
       "      <td>28.419936</td>\n",
       "      <td>150000000.0</td>\n",
       "      <td>3.784364e+08</td>\n",
       "      <td>Mad Max: Fury Road</td>\n",
       "      <td>Tom Hardy|Charlize Theron|Hugh Keays-Byrne|Nic...</td>\n",
       "      <td>George Miller</td>\n",
       "      <td>future|chase|post-apocalyptic|dystopia|australia</td>\n",
       "      <td>120</td>\n",
       "      <td>Action|Adventure|Science Fiction|Thriller</td>\n",
       "      <td>Village Roadshow Pictures|Kennedy Miller Produ...</td>\n",
       "      <td>5/13/15</td>\n",
       "      <td>6185</td>\n",
       "      <td>7.1</td>\n",
       "      <td>2015</td>\n",
       "    </tr>\n",
       "  </tbody>\n",
       "</table>\n",
       "</div>"
      ],
      "text/plain": [
       "       id  popularity       budget       revenue      original_title  \\\n",
       "0  135397   32.985763  150000000.0  1.513529e+09      Jurassic World   \n",
       "1   76341   28.419936  150000000.0  3.784364e+08  Mad Max: Fury Road   \n",
       "\n",
       "                                                cast         director  \\\n",
       "0  Chris Pratt|Bryce Dallas Howard|Irrfan Khan|Vi...  Colin Trevorrow   \n",
       "1  Tom Hardy|Charlize Theron|Hugh Keays-Byrne|Nic...    George Miller   \n",
       "\n",
       "                                            keywords  runtime  \\\n",
       "0  monster|dna|tyrannosaurus rex|velociraptor|island      124   \n",
       "1   future|chase|post-apocalyptic|dystopia|australia      120   \n",
       "\n",
       "                                      genres  \\\n",
       "0  Action|Adventure|Science Fiction|Thriller   \n",
       "1  Action|Adventure|Science Fiction|Thriller   \n",
       "\n",
       "                                production_companies release_date  vote_count  \\\n",
       "0  Universal Studios|Amblin Entertainment|Legenda...       6/9/15        5562   \n",
       "1  Village Roadshow Pictures|Kennedy Miller Produ...      5/13/15        6185   \n",
       "\n",
       "   vote_average  release_year  \n",
       "0           6.5          2015  \n",
       "1           7.1          2015  "
      ]
     },
     "execution_count": 30,
     "metadata": {},
     "output_type": "execute_result"
    }
   ],
   "source": [
    "df.head(2)"
   ]
  },
  {
   "cell_type": "markdown",
   "metadata": {
    "collapsed": true
   },
   "source": [
    "let's compute the mean of popularity in each year, and then plot lines to see the trends. In case the mean of popularity is affected by the outlier and since the popularity has no upper bound, we will also compute the median for analysising this question."
   ]
  },
  {
   "cell_type": "code",
   "execution_count": 31,
   "metadata": {},
   "outputs": [
    {
     "data": {
      "text/plain": [
       "release_year\n",
       "2011    0.685607\n",
       "2012    0.620326\n",
       "2013    0.639309\n",
       "2014    0.910027\n",
       "2015    1.055081\n",
       "Name: popularity, dtype: float64"
      ]
     },
     "execution_count": 31,
     "metadata": {},
     "output_type": "execute_result"
    }
   ],
   "source": [
    "p_mean = df.groupby('release_year').mean()['popularity']\n",
    "p_mean.tail()"
   ]
  },
  {
   "cell_type": "code",
   "execution_count": 32,
   "metadata": {},
   "outputs": [
    {
     "data": {
      "text/plain": [
       "release_year\n",
       "2011    0.420930\n",
       "2012    0.344263\n",
       "2013    0.356506\n",
       "2014    0.383337\n",
       "2015    0.407396\n",
       "Name: popularity, dtype: float64"
      ]
     },
     "execution_count": 32,
     "metadata": {},
     "output_type": "execute_result"
    }
   ],
   "source": [
    "p_median = df.groupby('release_year').median()['popularity']\n",
    "p_median.tail()"
   ]
  },
  {
   "cell_type": "markdown",
   "metadata": {},
   "source": [
    "As shown by the second test, the data with the median is more smother. \n",
    "\n",
    "Let's do the visualization now"
   ]
  },
  {
   "cell_type": "code",
   "execution_count": 33,
   "metadata": {},
   "outputs": [],
   "source": [
    "# Axis\n",
    "index_mean = p_mean.index\n",
    "index_median = p_median.index"
   ]
  },
  {
   "cell_type": "code",
   "execution_count": 35,
   "metadata": {},
   "outputs": [
    {
     "data": {
      "text/plain": [
       "<matplotlib.legend.Legend at 0x1a2692f310>"
      ]
     },
     "execution_count": 35,
     "metadata": {},
     "output_type": "execute_result"
    },
    {
     "data": {
      "image/png": "[encoded data removed]",
      "text/plain": [
       "<Figure size 720x360 with 1 Axes>"
      ]
     },
     "metadata": {},
     "output_type": "display_data"
    }
   ],
   "source": [
    "# Style\n",
    "sns.set_style('whitegrid')\n",
    "\n",
    "\n",
    "#set x, y axis data\n",
    "#x1, y1 for mean data; x2, y2 for median data\n",
    "x1, y1 = index_mean, p_mean\n",
    "x2, y2 = index_median, p_median\n",
    "\n",
    "\n",
    "\n",
    "#set size\n",
    "plt.figure(figsize=(10, 5))\n",
    "\n",
    "\n",
    "#plot line chart for mean and median\n",
    "plt.plot(x1, y1, color = 'g', label = 'mean')\n",
    "plt.plot(x2, y2, color = 'r', label = 'median')\n",
    "\n",
    "\n",
    "#set title and labels\n",
    "plt.title('Popularity Over Years')\n",
    "plt.xlabel('Year')\n",
    "plt.ylabel('Popularity');\n",
    "\n",
    "\n",
    "#set legend\n",
    "plt.legend(loc='upper left')"
   ]
  },
  {
   "cell_type": "markdown",
   "metadata": {},
   "source": [
    "Looking at the result above, we can notice that year after year kept on increasing untill the pick in 2015. We can also notice that the trend of popularity median is quite smother between 2000 and 2010. Therefore, we can conclude that over the years, the popularity kept on going up and was even higher in 2015. We can predict that it makes sense and it is reasonable because over the years, the access of movie gets easier and easier. Moreover, because it is now pretty simple to access internet, people easily gether movie info even stream movies on websites such as netflix. \n"
   ]
  },
  {
   "cell_type": "markdown",
   "metadata": {},
   "source": [
    "### Research Question 2. - Considering the five recent years, how is the distribution of revenue in different score rating levels ? how is the distribution of revenue in different popularity levels ? \n",
    "\n",
    "We have just noticed the the movies popularity is growing up even in the recent years. In this section we are going to focus on the popularity in defrent revenue levels and take some conclusion based on the results we will get. For example, will the popularity be higher in the higher revenue level ? \n",
    "\n",
    "The revenue trend is affected by many factors like inflation, etc. Thus, it won't be part of our discussion on this section. This will help keep the. analysis pretty simple even if the database contains adjusted data. Moreover, I noticed that the movie revenue trend is growing up therefore it won't infer that the trend up is related to popularity just by looking at the revenue trend line chart year by year.\n",
    "\n",
    "Subsequently, it is important to find out how the distribution of popularity looks like in terms of diferent revenue levels. Hence, a good approach would be dividing the revenue data into five levels: 'Low', 'Medium', 'Moderately High', 'High' according to their quartile and just use the the five recent yearns so that I focus on the current data feature. \n",
    "\n",
    "Let's create a fuction called cut_into_quartile which will help us in further analysis."
   ]
  },
  {
   "cell_type": "code",
   "execution_count": 36,
   "metadata": {},
   "outputs": [],
   "source": [
    "def cut_into_quantile(dfname ,column_name):\n",
    "    # Bin edges that will be used to \"cut\" the data into groups\n",
    "    bin_edges = [\n",
    "        dfname[column_name].min(),\n",
    "        dfname[column_name].describe()[4],\n",
    "        dfname[column_name].describe()[5],\n",
    "        dfname[column_name].describe()[6],\n",
    "        dfname[column_name].max()\n",
    "    ]\n",
    "    \n",
    "\n",
    "    dfname['{}_levels'.format(column_name)] = pd.cut(\n",
    "        dfname[column_name],\n",
    "        bin_edges,\n",
    "        labels=[ 'Low', 'Medium', 'Moderately High', 'High'],\n",
    "        include_lowest = True\n",
    "    )\n",
    "    \n",
    "    return dfname"
   ]
  },
  {
   "cell_type": "markdown",
   "metadata": {},
   "source": [
    "Let's divide revenue levels with each years revenue quartile to avoid data collision between years. "
   ]
  },
  {
   "cell_type": "code",
   "execution_count": 37,
   "metadata": {},
   "outputs": [
    {
     "name": "stderr",
     "output_type": "stream",
     "text": [
      "/opt/anaconda3/lib/python3.7/site-packages/ipykernel_launcher.py:16: SettingWithCopyWarning: \n",
      "A value is trying to be set on a copy of a slice from a DataFrame.\n",
      "Try using .loc[row_indexer,col_indexer] = value instead\n",
      "\n",
      "See the caveats in the documentation: https://pandas.pydata.org/pandas-docs/stable/user_guide/indexing.html#returning-a-view-versus-a-copy\n",
      "  app.launch_new_instance()\n"
     ]
    },
    {
     "name": "stdout",
     "output_type": "stream",
     "text": [
      "<class 'pandas.core.frame.DataFrame'>\n",
      "Int64Index: 3035 entries, 3371 to 628\n",
      "Data columns (total 16 columns):\n",
      " #   Column                Non-Null Count  Dtype   \n",
      "---  ------                --------------  -----   \n",
      " 0   id                    3035 non-null   int64   \n",
      " 1   popularity            3035 non-null   float64 \n",
      " 2   budget                1227 non-null   float64 \n",
      " 3   revenue               1143 non-null   float64 \n",
      " 4   original_title        3035 non-null   object  \n",
      " 5   cast                  3035 non-null   object  \n",
      " 6   director              3035 non-null   object  \n",
      " 7   keywords              2385 non-null   object  \n",
      " 8   runtime               3035 non-null   int64   \n",
      " 9   genres                3035 non-null   object  \n",
      " 10  production_companies  2703 non-null   object  \n",
      " 11  release_date          3035 non-null   object  \n",
      " 12  vote_count            3035 non-null   int64   \n",
      " 13  vote_average          3035 non-null   float64 \n",
      " 14  release_year          3035 non-null   int64   \n",
      " 15  revenue_levels        1143 non-null   category\n",
      "dtypes: category(1), float64(4), int64(4), object(7)\n",
      "memory usage: 382.5+ KB\n"
     ]
    }
   ],
   "source": [
    "#creat a empty dataframe,df_q2\n",
    "df_q2 = pd.DataFrame()\n",
    "\n",
    "#for each year, do the following procedure\n",
    "for year in [2011,2012,2013,2014,2015]:\n",
    "    dfn = df.query('release_year == \"%s\"' % year) # first filter dataframe with the selected year \n",
    "    dfn2 = cut_into_quantile(dfn,'revenue') #apply the cut_into_quantile with the selected frame, store it to dfn2 \n",
    "    df_q2 = df_q2.append(dfn2) #append dfn2 to df_q2\n",
    "df_q2.info()"
   ]
  },
  {
   "cell_type": "markdown",
   "metadata": {},
   "source": [
    "Notice that the revenue_levels column with the same rows as the revenue column.\n",
    "\n",
    "Then let's use the dataset to explore the popularity in each level each year."
   ]
  },
  {
   "cell_type": "code",
   "execution_count": 38,
   "metadata": {},
   "outputs": [
    {
     "data": {
      "text/html": [
       "<div>\n",
       "<style scoped>\n",
       "    .dataframe tbody tr th:only-of-type {\n",
       "        vertical-align: middle;\n",
       "    }\n",
       "\n",
       "    .dataframe tbody tr th {\n",
       "        vertical-align: top;\n",
       "    }\n",
       "\n",
       "    .dataframe thead th {\n",
       "        text-align: right;\n",
       "    }\n",
       "</style>\n",
       "<table border=\"1\" class=\"dataframe\">\n",
       "  <thead>\n",
       "    <tr style=\"text-align: right;\">\n",
       "      <th></th>\n",
       "      <th></th>\n",
       "      <th>id</th>\n",
       "      <th>popularity</th>\n",
       "      <th>budget</th>\n",
       "      <th>revenue</th>\n",
       "      <th>runtime</th>\n",
       "      <th>vote_count</th>\n",
       "      <th>vote_average</th>\n",
       "    </tr>\n",
       "    <tr>\n",
       "      <th>release_year</th>\n",
       "      <th>revenue_levels</th>\n",
       "      <th></th>\n",
       "      <th></th>\n",
       "      <th></th>\n",
       "      <th></th>\n",
       "      <th></th>\n",
       "      <th></th>\n",
       "      <th></th>\n",
       "    </tr>\n",
       "  </thead>\n",
       "  <tbody>\n",
       "    <tr>\n",
       "      <th rowspan=\"4\" valign=\"top\">2014</th>\n",
       "      <th>Low</th>\n",
       "      <td>244783.0</td>\n",
       "      <td>0.559472</td>\n",
       "      <td>5500000.0</td>\n",
       "      <td>149337.0</td>\n",
       "      <td>96.0</td>\n",
       "      <td>129.0</td>\n",
       "      <td>6.00</td>\n",
       "    </tr>\n",
       "    <tr>\n",
       "      <th>Medium</th>\n",
       "      <td>234200.0</td>\n",
       "      <td>0.778247</td>\n",
       "      <td>6000000.0</td>\n",
       "      <td>6833445.0</td>\n",
       "      <td>102.0</td>\n",
       "      <td>234.0</td>\n",
       "      <td>6.30</td>\n",
       "    </tr>\n",
       "    <tr>\n",
       "      <th>Moderately High</th>\n",
       "      <td>227157.5</td>\n",
       "      <td>1.144553</td>\n",
       "      <td>22000000.0</td>\n",
       "      <td>53506007.5</td>\n",
       "      <td>106.0</td>\n",
       "      <td>478.5</td>\n",
       "      <td>6.30</td>\n",
       "    </tr>\n",
       "    <tr>\n",
       "      <th>High</th>\n",
       "      <td>157350.0</td>\n",
       "      <td>3.327799</td>\n",
       "      <td>68000000.0</td>\n",
       "      <td>268031828.0</td>\n",
       "      <td>113.0</td>\n",
       "      <td>1829.0</td>\n",
       "      <td>6.60</td>\n",
       "    </tr>\n",
       "    <tr>\n",
       "      <th rowspan=\"4\" valign=\"top\">2015</th>\n",
       "      <th>Low</th>\n",
       "      <td>301284.0</td>\n",
       "      <td>0.506000</td>\n",
       "      <td>7500000.0</td>\n",
       "      <td>228615.0</td>\n",
       "      <td>98.5</td>\n",
       "      <td>79.5</td>\n",
       "      <td>5.85</td>\n",
       "    </tr>\n",
       "    <tr>\n",
       "      <th>Medium</th>\n",
       "      <td>272606.5</td>\n",
       "      <td>0.921828</td>\n",
       "      <td>13000000.0</td>\n",
       "      <td>11893552.5</td>\n",
       "      <td>105.0</td>\n",
       "      <td>242.5</td>\n",
       "      <td>6.15</td>\n",
       "    </tr>\n",
       "    <tr>\n",
       "      <th>Moderately High</th>\n",
       "      <td>273980.0</td>\n",
       "      <td>1.750452</td>\n",
       "      <td>19000000.0</td>\n",
       "      <td>61365324.5</td>\n",
       "      <td>108.0</td>\n",
       "      <td>614.5</td>\n",
       "      <td>6.40</td>\n",
       "    </tr>\n",
       "    <tr>\n",
       "      <th>High</th>\n",
       "      <td>253770.0</td>\n",
       "      <td>3.923328</td>\n",
       "      <td>81000000.0</td>\n",
       "      <td>244935102.0</td>\n",
       "      <td>117.0</td>\n",
       "      <td>1576.5</td>\n",
       "      <td>6.50</td>\n",
       "    </tr>\n",
       "  </tbody>\n",
       "</table>\n",
       "</div>"
      ],
      "text/plain": [
       "                                    id  popularity      budget      revenue  \\\n",
       "release_year revenue_levels                                                   \n",
       "2014         Low              244783.0    0.559472   5500000.0     149337.0   \n",
       "             Medium           234200.0    0.778247   6000000.0    6833445.0   \n",
       "             Moderately High  227157.5    1.144553  22000000.0   53506007.5   \n",
       "             High             157350.0    3.327799  68000000.0  268031828.0   \n",
       "2015         Low              301284.0    0.506000   7500000.0     228615.0   \n",
       "             Medium           272606.5    0.921828  13000000.0   11893552.5   \n",
       "             Moderately High  273980.0    1.750452  19000000.0   61365324.5   \n",
       "             High             253770.0    3.923328  81000000.0  244935102.0   \n",
       "\n",
       "                              runtime  vote_count  vote_average  \n",
       "release_year revenue_levels                                      \n",
       "2014         Low                 96.0       129.0          6.00  \n",
       "             Medium             102.0       234.0          6.30  \n",
       "             Moderately High    106.0       478.5          6.30  \n",
       "             High               113.0      1829.0          6.60  \n",
       "2015         Low                 98.5        79.5          5.85  \n",
       "             Medium             105.0       242.5          6.15  \n",
       "             Moderately High    108.0       614.5          6.40  \n",
       "             High               117.0      1576.5          6.50  "
      ]
     },
     "execution_count": 38,
     "metadata": {},
     "output_type": "execute_result"
    }
   ],
   "source": [
    "dfq2_summary = df_q2.groupby(['release_year','revenue_levels']).median()\n",
    "dfq2_summary.tail(8)"
   ]
  },
  {
   "cell_type": "markdown",
   "metadata": {},
   "source": [
    "Let's plot the results"
   ]
  },
  {
   "cell_type": "code",
   "execution_count": 42,
   "metadata": {},
   "outputs": [
    {
     "data": {
      "image/png": "[encoded data removed]",
      "text/plain": [
       "<Figure size 720x360 with 1 Axes>"
      ]
     },
     "metadata": {},
     "output_type": "display_data"
    }
   ],
   "source": [
    "# Setting the positions and width for the bars\n",
    "pos = list(range(len(dfq2_summary.query('revenue_levels ==\"Low\"'))))\n",
    "width = 0.2 \n",
    "\n",
    "# Plotting the bars\n",
    "fig, ax = plt.subplots(figsize=(10,5))\n",
    "\n",
    "# Create a bar with Low data, in position pos,\n",
    "plt.bar(pos, \n",
    "        #using 'Low' data,\n",
    "        dfq2_summary.query('revenue_levels ==\"Low\"')['popularity'], \n",
    "        # of width\n",
    "        width, \n",
    "        # with alpha 0.5\n",
    "        alpha=0.5, \n",
    "        # with color\n",
    "        color='#EE3224', \n",
    "        # with label Low\n",
    "        label= 'Low') \n",
    "\n",
    "# Create a bar with Medium data,\n",
    "# in position pos + some width buffer,\n",
    "plt.bar([p + width for p in pos], \n",
    "        #using Medium data,\n",
    "        dfq2_summary.query('revenue_levels ==\"Medium\"')['popularity'],\n",
    "        # of width\n",
    "        width, \n",
    "        # with alpha 0.5\n",
    "        alpha=0.5, \n",
    "        # with color\n",
    "        color='#F78F1E', \n",
    "        # with label Medium\n",
    "        label='Medium') \n",
    "\n",
    "# Create a bar with Moderately High data,\n",
    "# in position pos + some width buffer,\n",
    "plt.bar([p + width*2 for p in pos], \n",
    "        #using Moderately High data,\n",
    "        dfq2_summary.query('revenue_levels ==\"Moderately High\"')['popularity'], \n",
    "        # of width\n",
    "        width, \n",
    "        # with alpha 0.5\n",
    "        alpha=0.5, \n",
    "        # with color\n",
    "        color='#FFC222', \n",
    "        # with label Moderately High\n",
    "        label='Moderately High') \n",
    "\n",
    "# Create a bar with High data,\n",
    "# in position pos + some width buffer,\n",
    "plt.bar([p + width*3 for p in pos], \n",
    "        #using High data,\n",
    "        dfq2_summary.query('revenue_levels ==\"High\"')['popularity'], \n",
    "        # of width\n",
    "        width, \n",
    "        # with alpha 0.5\n",
    "        alpha=0.5, \n",
    "        # with color\n",
    "        color='#4fb427', \n",
    "        # with label High\n",
    "        label='High')\n",
    "\n",
    "# Set the y axis label\n",
    "ax.set_ylabel('popularity')\n",
    "\n",
    "# Set the chart's title\n",
    "ax.set_title('Popularity in Different Revenue Levels in Recent Five Years')\n",
    "\n",
    "# Set the position of the x ticks\n",
    "ax.set_xticks([p + 1.5 * width for p in pos])\n",
    "\n",
    "# Set the labels for the x ticks\n",
    "ax.set_xticklabels([2011,2012,2013,2014,2015])\n",
    "\n",
    "# Adding the legend and showing the plot\n",
    "plt.legend( loc='upper left')\n",
    "plt.grid()\n",
    "plt.show()"
   ]
  },
  {
   "cell_type": "markdown",
   "metadata": {},
   "source": [
    "Judging from the plot above, we can say that movies with higher revenue level are with higher popularity in recent five years. Which suggests that the revenue level has positive relation with popularity. This makes sense because in my experience I've seen that the popular movies are highly promoted with amaizing trailers and advertisements.\n",
    "\n",
    "I would infer that from the result above, a higher revenue movie is always associated with the higher popularity than movies with lower revenues. Hence, if one may want to make revenue from a movie, one important property to consider is the popularity wich involve promotion.\n",
    "\n",
    "How about the score rating distribution in diferent revenue levels ?"
   ]
  },
  {
   "cell_type": "code",
   "execution_count": 44,
   "metadata": {},
   "outputs": [
    {
     "data": {
      "text/html": [
       "<div>\n",
       "<style scoped>\n",
       "    .dataframe tbody tr th:only-of-type {\n",
       "        vertical-align: middle;\n",
       "    }\n",
       "\n",
       "    .dataframe tbody tr th {\n",
       "        vertical-align: top;\n",
       "    }\n",
       "\n",
       "    .dataframe thead th {\n",
       "        text-align: right;\n",
       "    }\n",
       "</style>\n",
       "<table border=\"1\" class=\"dataframe\">\n",
       "  <thead>\n",
       "    <tr style=\"text-align: right;\">\n",
       "      <th></th>\n",
       "      <th></th>\n",
       "      <th>id</th>\n",
       "      <th>popularity</th>\n",
       "      <th>budget</th>\n",
       "      <th>revenue</th>\n",
       "      <th>runtime</th>\n",
       "      <th>vote_count</th>\n",
       "      <th>vote_average</th>\n",
       "    </tr>\n",
       "    <tr>\n",
       "      <th>release_year</th>\n",
       "      <th>revenue_levels</th>\n",
       "      <th></th>\n",
       "      <th></th>\n",
       "      <th></th>\n",
       "      <th></th>\n",
       "      <th></th>\n",
       "      <th></th>\n",
       "      <th></th>\n",
       "    </tr>\n",
       "  </thead>\n",
       "  <tbody>\n",
       "    <tr>\n",
       "      <th rowspan=\"4\" valign=\"top\">2015</th>\n",
       "      <th>Low</th>\n",
       "      <td>288091.296296</td>\n",
       "      <td>0.672883</td>\n",
       "      <td>7.802640e+06</td>\n",
       "      <td>7.311892e+05</td>\n",
       "      <td>101.851852</td>\n",
       "      <td>106.592593</td>\n",
       "      <td>5.918519</td>\n",
       "    </tr>\n",
       "    <tr>\n",
       "      <th>Medium</th>\n",
       "      <td>268269.129630</td>\n",
       "      <td>1.224921</td>\n",
       "      <td>1.779000e+07</td>\n",
       "      <td>1.399316e+07</td>\n",
       "      <td>105.092593</td>\n",
       "      <td>266.703704</td>\n",
       "      <td>6.103704</td>\n",
       "    </tr>\n",
       "    <tr>\n",
       "      <th>Moderately High</th>\n",
       "      <td>267348.962963</td>\n",
       "      <td>2.017584</td>\n",
       "      <td>2.311923e+07</td>\n",
       "      <td>6.356421e+07</td>\n",
       "      <td>107.537037</td>\n",
       "      <td>684.018519</td>\n",
       "      <td>6.362963</td>\n",
       "    </tr>\n",
       "    <tr>\n",
       "      <th>High</th>\n",
       "      <td>219819.685185</td>\n",
       "      <td>5.369140</td>\n",
       "      <td>9.754528e+07</td>\n",
       "      <td>4.173124e+08</td>\n",
       "      <td>117.703704</td>\n",
       "      <td>1952.944444</td>\n",
       "      <td>6.496296</td>\n",
       "    </tr>\n",
       "  </tbody>\n",
       "</table>\n",
       "</div>"
      ],
      "text/plain": [
       "                                         id  popularity        budget  \\\n",
       "release_year revenue_levels                                             \n",
       "2015         Low              288091.296296    0.672883  7.802640e+06   \n",
       "             Medium           268269.129630    1.224921  1.779000e+07   \n",
       "             Moderately High  267348.962963    2.017584  2.311923e+07   \n",
       "             High             219819.685185    5.369140  9.754528e+07   \n",
       "\n",
       "                                   revenue     runtime   vote_count  \\\n",
       "release_year revenue_levels                                           \n",
       "2015         Low              7.311892e+05  101.851852   106.592593   \n",
       "             Medium           1.399316e+07  105.092593   266.703704   \n",
       "             Moderately High  6.356421e+07  107.537037   684.018519   \n",
       "             High             4.173124e+08  117.703704  1952.944444   \n",
       "\n",
       "                              vote_average  \n",
       "release_year revenue_levels                 \n",
       "2015         Low                  5.918519  \n",
       "             Medium               6.103704  \n",
       "             Moderately High      6.362963  \n",
       "             High                 6.496296  "
      ]
     },
     "execution_count": 44,
     "metadata": {},
     "output_type": "execute_result"
    }
   ],
   "source": [
    "dfq2_summary = df_q2.groupby(['release_year','revenue_levels']).mean()\n",
    "dfq2_summary.tail(4)"
   ]
  },
  {
   "cell_type": "markdown",
   "metadata": {},
   "source": [
    "Let's plot the chart"
   ]
  },
  {
   "cell_type": "code",
   "execution_count": 45,
   "metadata": {},
   "outputs": [
    {
     "data": {
      "image/png": "[encoded data removed]",
      "text/plain": [
       "<Figure size 864x216 with 1 Axes>"
      ]
     },
     "metadata": {},
     "output_type": "display_data"
    }
   ],
   "source": [
    "# Setting the positions and width for the bars\n",
    "pos = list(range(len(dfq2_summary.query('revenue_levels ==\"Low\"'))))\n",
    "width = 0.2 \n",
    "\n",
    "# Plotting the bars\n",
    "fig, ax = plt.subplots(figsize=(12,3))\n",
    "\n",
    "# Create a bar with Low data, in position pos,\n",
    "plt.bar(pos, \n",
    "        #using 'Low' data,\n",
    "        dfq2_summary.query('revenue_levels ==\"Low\"')['vote_average'], \n",
    "        # of width\n",
    "        width, \n",
    "        # with alpha 0.5\n",
    "        alpha=0.5, \n",
    "        # with color\n",
    "        color='#EE3224', \n",
    "        # with label Low\n",
    "        label= 'Low') \n",
    "\n",
    "# Create a bar with Medium data,\n",
    "# in position pos + some width buffer,\n",
    "plt.bar([p + width for p in pos], \n",
    "        #using Medium data,\n",
    "        dfq2_summary.query('revenue_levels ==\"Medium\"')['vote_average'],\n",
    "        # of width\n",
    "        width, \n",
    "        # with alpha 0.5\n",
    "        alpha=0.5, \n",
    "        # with color\n",
    "        color='#F78F1E', \n",
    "        # with label Medium\n",
    "        label='Medium') \n",
    "\n",
    "# Create a bar with Moderately High data,\n",
    "# in position pos + some width buffer,\n",
    "plt.bar([p + width*2 for p in pos], \n",
    "        #using Moderately High data,\n",
    "        dfq2_summary.query('revenue_levels ==\"Moderately High\"')['vote_average'], \n",
    "        # of width\n",
    "        width, \n",
    "        # with alpha 0.5\n",
    "        alpha=0.5, \n",
    "        # with color\n",
    "        color='#FFC222', \n",
    "        # with label Moderately High\n",
    "        label='Moderately High') \n",
    "\n",
    "# Create a bar with High data,\n",
    "# in position pos + some width buffer,\n",
    "plt.bar([p + width*3 for p in pos], \n",
    "        #using High data,\n",
    "        dfq2_summary.query('revenue_levels ==\"High\"')['vote_average'], \n",
    "        # of width\n",
    "        width, \n",
    "        # with alpha 0.5\n",
    "        alpha=0.5, \n",
    "        # with color\n",
    "        color='#4fb427', \n",
    "        # with label High\n",
    "        label='High')\n",
    "\n",
    "# Set the y axis label\n",
    "ax.set_ylabel('vote average')\n",
    "\n",
    "# Set the chart's title\n",
    "ax.set_title('Vote Average Score in Different Revenue Levels in Recent Five Years')\n",
    "\n",
    "# Set the position of the x ticks\n",
    "ax.set_xticks([p + 1.5 * width for p in pos])\n",
    "\n",
    "# Set the labels for the x ticks\n",
    "ax.set_xticklabels([2011,2012,2013,2014,2015])\n",
    "\n",
    "#set y-axis height\n",
    "plt.ylim(3, 10)\n",
    "\n",
    "# Adding the legend and showing the plot\n",
    "plt.legend(loc='upper left')\n",
    "plt.grid()\n",
    "plt.show()"
   ]
  },
  {
   "cell_type": "markdown",
   "metadata": {},
   "source": [
    "Judging from the result above, we can conclude that there is no big diference of the movie rating between each revenue level. We would conclude from this that the higher revenue movie doesn't necessarily have the hign scrore rating."
   ]
  },
  {
   "cell_type": "markdown",
   "metadata": {},
   "source": [
    "#### Section summary\n",
    "\n",
    "* Throughout the years, movie popularity is is growing up. The reason is that nowadays movie information and the rating system are easily accessible.\n",
    "* Movies with higher revenue are with higer popilarity in the recent five years.\n",
    "* Movies with the higher revenue don't necessarily have the high score rating in the recent five years.\n"
   ]
  },
  {
   "cell_type": "markdown",
   "metadata": {},
   "source": [
    "### Research Question 3. - What kinds of properties are associated with movies that have high popularity? What kinds of properties are associated with movies that have high voting score?\n",
    "\n",
    "\n",
    "We can guess from the dataset that the potenatial properties that can be associated with movies are `runtime`, `cast`, `director`, `keywords`, `genres`, `production companies`. \n",
    "\n",
    "If we look closer to these data, we will see that they are two types : `quantitive` (runtime and budget) and `categorical` (the rest) data. \n",
    "\n",
    "Quatitative data can be devided into various of levels to find the properties in all the range of movies success. It would be good to use the whole dataset then divide the runtime and budget into four levels according to theire quartile: 'Low', 'Medium', 'Moderately High', 'High' in all time range and then find out what's the runtime and budget level with higher degree of movie popularity/voting score.\n",
    "\n",
    "Since we are not to discuss all the range of movies success, we will just fucus on higher popularity or higher rating. Hence, we will just filter the top 100 popuplar/high voting score movies data in each year, cut the number of occurrences in every category every year ti find the properties. \n",
    "\n",
    "_______________\n",
    "\n",
    "Forthermore, in case that the top frequent occurrences are also appeared in the worst popular / high voting score movies, I also filter the worst 100 popular/ high voting score movies in every year and then compare the result to top 100's. If the top frequent occurrences also appear in the worst movies, I am going to include these factors as properties associated with top movies as well as worst movies. Besides, these data are contain the pipe (|) characters so first I have to spilt them. </b>\n",
    "\n",
    "A. Function Prepare-- Build a level-devide function and a split string function.\n",
    "A)The cut_into_quantile function- general use.\n",
    "\n",
    "The function is the same I ued in the Part 1 Question. So I just past it again below.\n",
    "\n",
    "\n",
    "_____\n",
    "\n",
    "A function to find the top three factor after using the split pipe in order to count their number of appeared times\n"
   ]
  },
  {
   "cell_type": "code",
   "execution_count": 47,
   "metadata": {},
   "outputs": [],
   "source": [
    "# split pipe characters and count their number of appeared times\n",
    "#argument:dataframe_col is the target dataframe&column; num is the number of the top factor\n",
    "def find_top(dataframe_col, num=3):\n",
    "    # split the characters in the input column \n",
    "    #and make it to a list\n",
    "    alist = dataframe_col.str.cat(sep='|').split('|')\n",
    "    #transfer it to a dataframe\n",
    "    new = pd.DataFrame({'top' :alist})\n",
    "    #count their number of appeared times and\n",
    "    #choose the top3\n",
    "    top = new['top'].value_counts().head(num)\n",
    "    return top"
   ]
  },
  {
   "cell_type": "markdown",
   "metadata": {},
   "source": [
    "let's now Filter Top 100 and Worst 100 movies in each year as the research sample.\n",
    "#### \n",
    "Top 100 popular movies in every year."
   ]
  },
  {
   "cell_type": "code",
   "execution_count": 49,
   "metadata": {},
   "outputs": [
    {
     "data": {
      "text/html": [
       "<div>\n",
       "<style scoped>\n",
       "    .dataframe tbody tr th:only-of-type {\n",
       "        vertical-align: middle;\n",
       "    }\n",
       "\n",
       "    .dataframe tbody tr th {\n",
       "        vertical-align: top;\n",
       "    }\n",
       "\n",
       "    .dataframe thead th {\n",
       "        text-align: right;\n",
       "    }\n",
       "</style>\n",
       "<table border=\"1\" class=\"dataframe\">\n",
       "  <thead>\n",
       "    <tr style=\"text-align: right;\">\n",
       "      <th></th>\n",
       "      <th>id</th>\n",
       "      <th>popularity</th>\n",
       "      <th>budget</th>\n",
       "      <th>revenue</th>\n",
       "      <th>original_title</th>\n",
       "      <th>cast</th>\n",
       "      <th>director</th>\n",
       "      <th>keywords</th>\n",
       "      <th>runtime</th>\n",
       "      <th>genres</th>\n",
       "      <th>production_companies</th>\n",
       "      <th>release_date</th>\n",
       "      <th>vote_count</th>\n",
       "      <th>vote_average</th>\n",
       "      <th>release_year</th>\n",
       "    </tr>\n",
       "  </thead>\n",
       "  <tbody>\n",
       "    <tr>\n",
       "      <th>0</th>\n",
       "      <td>539</td>\n",
       "      <td>2.610362</td>\n",
       "      <td>806948.0</td>\n",
       "      <td>32000000.0</td>\n",
       "      <td>Psycho</td>\n",
       "      <td>Anthony Perkins|Vera Miles|John Gavin|Janet Le...</td>\n",
       "      <td>Alfred Hitchcock</td>\n",
       "      <td>hotel|clerk|arizona|shower|rain</td>\n",
       "      <td>109</td>\n",
       "      <td>Drama|Horror|Thriller</td>\n",
       "      <td>Shamley Productions</td>\n",
       "      <td>8/14/60</td>\n",
       "      <td>1180</td>\n",
       "      <td>8.0</td>\n",
       "      <td>1960</td>\n",
       "    </tr>\n",
       "    <tr>\n",
       "      <th>1</th>\n",
       "      <td>966</td>\n",
       "      <td>1.872132</td>\n",
       "      <td>2000000.0</td>\n",
       "      <td>4905000.0</td>\n",
       "      <td>The Magnificent Seven</td>\n",
       "      <td>Yul Brynner|Eli Wallach|Steve McQueen|Charles ...</td>\n",
       "      <td>John Sturges</td>\n",
       "      <td>horse|village|friendship|remake|number in title</td>\n",
       "      <td>128</td>\n",
       "      <td>Action|Adventure|Western</td>\n",
       "      <td>The Mirisch Corporation|Alpha Productions</td>\n",
       "      <td>10/23/60</td>\n",
       "      <td>224</td>\n",
       "      <td>7.0</td>\n",
       "      <td>1960</td>\n",
       "    </tr>\n",
       "  </tbody>\n",
       "</table>\n",
       "</div>"
      ],
      "text/plain": [
       "    id  popularity     budget     revenue         original_title  \\\n",
       "0  539    2.610362   806948.0  32000000.0                 Psycho   \n",
       "1  966    1.872132  2000000.0   4905000.0  The Magnificent Seven   \n",
       "\n",
       "                                                cast          director  \\\n",
       "0  Anthony Perkins|Vera Miles|John Gavin|Janet Le...  Alfred Hitchcock   \n",
       "1  Yul Brynner|Eli Wallach|Steve McQueen|Charles ...      John Sturges   \n",
       "\n",
       "                                          keywords  runtime  \\\n",
       "0                  hotel|clerk|arizona|shower|rain      109   \n",
       "1  horse|village|friendship|remake|number in title      128   \n",
       "\n",
       "                     genres                       production_companies  \\\n",
       "0     Drama|Horror|Thriller                        Shamley Productions   \n",
       "1  Action|Adventure|Western  The Mirisch Corporation|Alpha Productions   \n",
       "\n",
       "  release_date  vote_count  vote_average  release_year  \n",
       "0      8/14/60        1180           8.0          1960  \n",
       "1     10/23/60         224           7.0          1960  "
      ]
     },
     "execution_count": 49,
     "metadata": {},
     "output_type": "execute_result"
    }
   ],
   "source": [
    "# Select Top 100 popular movies.\n",
    "# fisrt sort it by release year ascending and popularity descending\n",
    "df_top_p = df.sort_values(['release_year','popularity'], ascending=[True, False])\n",
    "#group by year and choose the top 100 high\n",
    "df_top_p = df_top_p.groupby('release_year').head(100).reset_index(drop=True)\n",
    "#check, it must start from 1960, and with high popularity to low\n",
    "df_top_p.head(2)"
   ]
  },
  {
   "cell_type": "markdown",
   "metadata": {},
   "source": [
    "#### Top 100 high revenue movies in every year."
   ]
  },
  {
   "cell_type": "code",
   "execution_count": 50,
   "metadata": {},
   "outputs": [
    {
     "data": {
      "text/html": [
       "<div>\n",
       "<style scoped>\n",
       "    .dataframe tbody tr th:only-of-type {\n",
       "        vertical-align: middle;\n",
       "    }\n",
       "\n",
       "    .dataframe tbody tr th {\n",
       "        vertical-align: top;\n",
       "    }\n",
       "\n",
       "    .dataframe thead th {\n",
       "        text-align: right;\n",
       "    }\n",
       "</style>\n",
       "<table border=\"1\" class=\"dataframe\">\n",
       "  <thead>\n",
       "    <tr style=\"text-align: right;\">\n",
       "      <th></th>\n",
       "      <th>id</th>\n",
       "      <th>popularity</th>\n",
       "      <th>budget</th>\n",
       "      <th>revenue</th>\n",
       "      <th>original_title</th>\n",
       "      <th>cast</th>\n",
       "      <th>director</th>\n",
       "      <th>keywords</th>\n",
       "      <th>runtime</th>\n",
       "      <th>genres</th>\n",
       "      <th>production_companies</th>\n",
       "      <th>release_date</th>\n",
       "      <th>vote_count</th>\n",
       "      <th>vote_average</th>\n",
       "      <th>release_year</th>\n",
       "    </tr>\n",
       "  </thead>\n",
       "  <tbody>\n",
       "    <tr>\n",
       "      <th>0</th>\n",
       "      <td>967</td>\n",
       "      <td>1.136943</td>\n",
       "      <td>12000000.0</td>\n",
       "      <td>60000000.0</td>\n",
       "      <td>Spartacus</td>\n",
       "      <td>Kirk Douglas|Laurence Olivier|Jean Simmons|Cha...</td>\n",
       "      <td>Stanley Kubrick</td>\n",
       "      <td>gladiator|roman empire|gladiator fight|slavery...</td>\n",
       "      <td>197</td>\n",
       "      <td>Action|Drama|History</td>\n",
       "      <td>Bryna Productions</td>\n",
       "      <td>10/6/60</td>\n",
       "      <td>211</td>\n",
       "      <td>6.9</td>\n",
       "      <td>1960</td>\n",
       "    </tr>\n",
       "    <tr>\n",
       "      <th>1</th>\n",
       "      <td>539</td>\n",
       "      <td>2.610362</td>\n",
       "      <td>806948.0</td>\n",
       "      <td>32000000.0</td>\n",
       "      <td>Psycho</td>\n",
       "      <td>Anthony Perkins|Vera Miles|John Gavin|Janet Le...</td>\n",
       "      <td>Alfred Hitchcock</td>\n",
       "      <td>hotel|clerk|arizona|shower|rain</td>\n",
       "      <td>109</td>\n",
       "      <td>Drama|Horror|Thriller</td>\n",
       "      <td>Shamley Productions</td>\n",
       "      <td>8/14/60</td>\n",
       "      <td>1180</td>\n",
       "      <td>8.0</td>\n",
       "      <td>1960</td>\n",
       "    </tr>\n",
       "  </tbody>\n",
       "</table>\n",
       "</div>"
      ],
      "text/plain": [
       "    id  popularity      budget     revenue original_title  \\\n",
       "0  967    1.136943  12000000.0  60000000.0      Spartacus   \n",
       "1  539    2.610362    806948.0  32000000.0         Psycho   \n",
       "\n",
       "                                                cast          director  \\\n",
       "0  Kirk Douglas|Laurence Olivier|Jean Simmons|Cha...   Stanley Kubrick   \n",
       "1  Anthony Perkins|Vera Miles|John Gavin|Janet Le...  Alfred Hitchcock   \n",
       "\n",
       "                                            keywords  runtime  \\\n",
       "0  gladiator|roman empire|gladiator fight|slavery...      197   \n",
       "1                    hotel|clerk|arizona|shower|rain      109   \n",
       "\n",
       "                  genres production_companies release_date  vote_count  \\\n",
       "0   Action|Drama|History    Bryna Productions      10/6/60         211   \n",
       "1  Drama|Horror|Thriller  Shamley Productions      8/14/60        1180   \n",
       "\n",
       "   vote_average  release_year  \n",
       "0           6.9          1960  \n",
       "1           8.0          1960  "
      ]
     },
     "execution_count": 50,
     "metadata": {},
     "output_type": "execute_result"
    }
   ],
   "source": [
    "# Select Top 100 high revenue movies.\n",
    "# fisrt sort it by release year ascending and revenue descending\n",
    "df_top_r = df.sort_values(['release_year','revenue'], ascending=[True, False])\n",
    "#group by year and choose the top 100 high\n",
    "df_top_r = df_top_r.groupby('release_year').head(100).reset_index(drop=True)\n",
    "#check, it must start from 1960, and with high revenue to low\n",
    "df_top_r.head(2)"
   ]
  },
  {
   "cell_type": "markdown",
   "metadata": {},
   "source": [
    "#### Top 100 high score rating movies in every year."
   ]
  },
  {
   "cell_type": "code",
   "execution_count": 51,
   "metadata": {},
   "outputs": [
    {
     "data": {
      "text/html": [
       "<div>\n",
       "<style scoped>\n",
       "    .dataframe tbody tr th:only-of-type {\n",
       "        vertical-align: middle;\n",
       "    }\n",
       "\n",
       "    .dataframe tbody tr th {\n",
       "        vertical-align: top;\n",
       "    }\n",
       "\n",
       "    .dataframe thead th {\n",
       "        text-align: right;\n",
       "    }\n",
       "</style>\n",
       "<table border=\"1\" class=\"dataframe\">\n",
       "  <thead>\n",
       "    <tr style=\"text-align: right;\">\n",
       "      <th></th>\n",
       "      <th>id</th>\n",
       "      <th>popularity</th>\n",
       "      <th>budget</th>\n",
       "      <th>revenue</th>\n",
       "      <th>original_title</th>\n",
       "      <th>cast</th>\n",
       "      <th>director</th>\n",
       "      <th>keywords</th>\n",
       "      <th>runtime</th>\n",
       "      <th>genres</th>\n",
       "      <th>production_companies</th>\n",
       "      <th>release_date</th>\n",
       "      <th>vote_count</th>\n",
       "      <th>vote_average</th>\n",
       "      <th>release_year</th>\n",
       "    </tr>\n",
       "  </thead>\n",
       "  <tbody>\n",
       "    <tr>\n",
       "      <th>0</th>\n",
       "      <td>539</td>\n",
       "      <td>2.610362</td>\n",
       "      <td>806948.0</td>\n",
       "      <td>32000000.0</td>\n",
       "      <td>Psycho</td>\n",
       "      <td>Anthony Perkins|Vera Miles|John Gavin|Janet Le...</td>\n",
       "      <td>Alfred Hitchcock</td>\n",
       "      <td>hotel|clerk|arizona|shower|rain</td>\n",
       "      <td>109</td>\n",
       "      <td>Drama|Horror|Thriller</td>\n",
       "      <td>Shamley Productions</td>\n",
       "      <td>8/14/60</td>\n",
       "      <td>1180</td>\n",
       "      <td>8.0</td>\n",
       "      <td>1960</td>\n",
       "    </tr>\n",
       "    <tr>\n",
       "      <th>1</th>\n",
       "      <td>284</td>\n",
       "      <td>0.947307</td>\n",
       "      <td>3000000.0</td>\n",
       "      <td>25000000.0</td>\n",
       "      <td>The Apartment</td>\n",
       "      <td>Jack Lemmon|Shirley MacLaine|Fred MacMurray|Ra...</td>\n",
       "      <td>Billy Wilder</td>\n",
       "      <td>new york|new year's eve|lovesickness|age diffe...</td>\n",
       "      <td>125</td>\n",
       "      <td>Comedy|Drama|Romance</td>\n",
       "      <td>United Artists|The Mirisch Company</td>\n",
       "      <td>6/15/60</td>\n",
       "      <td>235</td>\n",
       "      <td>7.9</td>\n",
       "      <td>1960</td>\n",
       "    </tr>\n",
       "  </tbody>\n",
       "</table>\n",
       "</div>"
      ],
      "text/plain": [
       "    id  popularity     budget     revenue original_title  \\\n",
       "0  539    2.610362   806948.0  32000000.0         Psycho   \n",
       "1  284    0.947307  3000000.0  25000000.0  The Apartment   \n",
       "\n",
       "                                                cast          director  \\\n",
       "0  Anthony Perkins|Vera Miles|John Gavin|Janet Le...  Alfred Hitchcock   \n",
       "1  Jack Lemmon|Shirley MacLaine|Fred MacMurray|Ra...      Billy Wilder   \n",
       "\n",
       "                                            keywords  runtime  \\\n",
       "0                    hotel|clerk|arizona|shower|rain      109   \n",
       "1  new york|new year's eve|lovesickness|age diffe...      125   \n",
       "\n",
       "                  genres                production_companies release_date  \\\n",
       "0  Drama|Horror|Thriller                 Shamley Productions      8/14/60   \n",
       "1   Comedy|Drama|Romance  United Artists|The Mirisch Company      6/15/60   \n",
       "\n",
       "   vote_count  vote_average  release_year  \n",
       "0        1180           8.0          1960  \n",
       "1         235           7.9          1960  "
      ]
     },
     "execution_count": 51,
     "metadata": {},
     "output_type": "execute_result"
    }
   ],
   "source": [
    "# Select Top 100 high scorer ating movies.\n",
    "# fisrt sort it by release year ascending and high scorer ating descending\n",
    "df_top_s = df.sort_values(['release_year','vote_average'], ascending=[True, False])\n",
    "#group by year and choose the top 100 high\n",
    "df_top_s = df_top_s.groupby('release_year').head(100).reset_index(drop=True)\n",
    "#check, it must start from 1960, and with high scorer ating to low\n",
    "df_top_s.head(2)"
   ]
  },
  {
   "cell_type": "markdown",
   "metadata": {},
   "source": [
    "let's create a sub dataset for the last 100 movies to compare the results"
   ]
  },
  {
   "cell_type": "code",
   "execution_count": 53,
   "metadata": {},
   "outputs": [],
   "source": [
    "# the last 100 popular movies in every year\n",
    "df_low_p = df.sort_values(['release_year','popularity'], ascending=[True, True])\n",
    "df_low_p = df_low_p.groupby('release_year').head(100).reset_index(drop=True)\n",
    "# the last 100 high revenue movies in every year\n",
    "df_low_r = df.sort_values(['release_year','revenue'], ascending=[True, True])\n",
    "df_low_r = df_low_r.groupby('release_year').head(100).reset_index(drop=True)\n",
    "# the last 100 score rating movies in every year\n",
    "df_low_s = df.sort_values(['release_year','vote_average'], ascending=[True, True])\n",
    "df_low_s = df_low_s.groupby('release_year').head(100).reset_index(drop=True)\n"
   ]
  },
  {
   "cell_type": "markdown",
   "metadata": {},
   "source": [
    "Let's divide the budget data into four levels with its quartile and create a level column"
   ]
  },
  {
   "cell_type": "code",
   "execution_count": 54,
   "metadata": {},
   "outputs": [
    {
     "data": {
      "text/html": [
       "<div>\n",
       "<style scoped>\n",
       "    .dataframe tbody tr th:only-of-type {\n",
       "        vertical-align: middle;\n",
       "    }\n",
       "\n",
       "    .dataframe tbody tr th {\n",
       "        vertical-align: top;\n",
       "    }\n",
       "\n",
       "    .dataframe thead th {\n",
       "        text-align: right;\n",
       "    }\n",
       "</style>\n",
       "<table border=\"1\" class=\"dataframe\">\n",
       "  <thead>\n",
       "    <tr style=\"text-align: right;\">\n",
       "      <th></th>\n",
       "      <th>id</th>\n",
       "      <th>popularity</th>\n",
       "      <th>budget</th>\n",
       "      <th>revenue</th>\n",
       "      <th>original_title</th>\n",
       "      <th>cast</th>\n",
       "      <th>director</th>\n",
       "      <th>keywords</th>\n",
       "      <th>runtime</th>\n",
       "      <th>genres</th>\n",
       "      <th>production_companies</th>\n",
       "      <th>release_date</th>\n",
       "      <th>vote_count</th>\n",
       "      <th>vote_average</th>\n",
       "      <th>release_year</th>\n",
       "      <th>budget_levels</th>\n",
       "    </tr>\n",
       "  </thead>\n",
       "  <tbody>\n",
       "    <tr>\n",
       "      <th>0</th>\n",
       "      <td>135397</td>\n",
       "      <td>32.985763</td>\n",
       "      <td>150000000.0</td>\n",
       "      <td>1.513529e+09</td>\n",
       "      <td>Jurassic World</td>\n",
       "      <td>Chris Pratt|Bryce Dallas Howard|Irrfan Khan|Vi...</td>\n",
       "      <td>Colin Trevorrow</td>\n",
       "      <td>monster|dna|tyrannosaurus rex|velociraptor|island</td>\n",
       "      <td>124</td>\n",
       "      <td>Action|Adventure|Science Fiction|Thriller</td>\n",
       "      <td>Universal Studios|Amblin Entertainment|Legenda...</td>\n",
       "      <td>6/9/15</td>\n",
       "      <td>5562</td>\n",
       "      <td>6.5</td>\n",
       "      <td>2015</td>\n",
       "      <td>High</td>\n",
       "    </tr>\n",
       "  </tbody>\n",
       "</table>\n",
       "</div>"
      ],
      "text/plain": [
       "       id  popularity       budget       revenue  original_title  \\\n",
       "0  135397   32.985763  150000000.0  1.513529e+09  Jurassic World   \n",
       "\n",
       "                                                cast         director  \\\n",
       "0  Chris Pratt|Bryce Dallas Howard|Irrfan Khan|Vi...  Colin Trevorrow   \n",
       "\n",
       "                                            keywords  runtime  \\\n",
       "0  monster|dna|tyrannosaurus rex|velociraptor|island      124   \n",
       "\n",
       "                                      genres  \\\n",
       "0  Action|Adventure|Science Fiction|Thriller   \n",
       "\n",
       "                                production_companies release_date  vote_count  \\\n",
       "0  Universal Studios|Amblin Entertainment|Legenda...       6/9/15        5562   \n",
       "\n",
       "   vote_average  release_year budget_levels  \n",
       "0           6.5          2015          High  "
      ]
     },
     "execution_count": 54,
     "metadata": {},
     "output_type": "execute_result"
    }
   ],
   "source": [
    "# use cut_into_quantile function to build a level column\n",
    "df = cut_into_quantile(df,'budget')\n",
    "df.head(1)"
   ]
  },
  {
   "cell_type": "code",
   "execution_count": 55,
   "metadata": {},
   "outputs": [
    {
     "data": {
      "text/plain": [
       "budget_levels\n",
       "Low                0.510678\n",
       "Medium             0.726490\n",
       "Moderately High    0.988660\n",
       "High               1.821742\n",
       "Name: popularity, dtype: float64"
      ]
     },
     "execution_count": 55,
     "metadata": {},
     "output_type": "execute_result"
    }
   ],
   "source": [
    "# Find the mean and median popularity of each level with groupby\n",
    "result_mean = df.groupby('budget_levels')['popularity'].mean()\n",
    "result_mean"
   ]
  },
  {
   "cell_type": "code",
   "execution_count": 56,
   "metadata": {},
   "outputs": [
    {
     "data": {
      "text/plain": [
       "budget_levels\n",
       "Low                0.367621\n",
       "Medium             0.507987\n",
       "Moderately High    0.733975\n",
       "High               1.232098\n",
       "Name: popularity, dtype: float64"
      ]
     },
     "execution_count": 56,
     "metadata": {},
     "output_type": "execute_result"
    }
   ],
   "source": [
    "result_median = df.groupby('budget_levels')['popularity'].median()\n",
    "result_median"
   ]
  },
  {
   "cell_type": "markdown",
   "metadata": {},
   "source": [
    "Let's handle the visualization now"
   ]
  },
  {
   "cell_type": "code",
   "execution_count": 60,
   "metadata": {},
   "outputs": [
    {
     "data": {
      "text/plain": [
       "<matplotlib.legend.Legend at 0x1a26b71c50>"
      ]
     },
     "execution_count": 60,
     "metadata": {},
     "output_type": "execute_result"
    },
    {
     "data": {
      "image/png": "[encoded data removed]",
      "text/plain": [
       "<Figure size 432x288 with 1 Axes>"
      ]
     },
     "metadata": {},
     "output_type": "display_data"
    }
   ],
   "source": [
    "# the x locations for the groups\n",
    "ind = np.arange(len(result_mean))  \n",
    "# the width of the bars\n",
    "width = 0.5       \n",
    "\n",
    "\n",
    "# plot bars\n",
    "#set style\n",
    "sns.set_style('darkgrid')\n",
    "bars = plt.bar(ind, result_mean, width, color='g', alpha=.7, label='mean')\n",
    "\n",
    "# title and labels\n",
    "plt.ylabel('popularity')\n",
    "plt.xlabel('budget levels')\n",
    "plt.title('Popularity with Budget Levels')\n",
    "locations = ind  # xtick locations，345...\n",
    "labels = result_median.index  \n",
    "plt.xticks(locations, labels)\n",
    "# legend\n",
    "plt.legend()"
   ]
  },
  {
   "cell_type": "markdown",
   "metadata": {},
   "source": [
    "Notice on the figure above that movies with higer popularity are with higher budget level. This makes sense because for a movie to be popular it has to be promoted a lot. therefore the promoting advertisement will cost. \n",
    "\n",
    "let's divide the runtime data into four levels with it's quartile: 'Short', 'Medium', 'Moderately Long', 'Long'."
   ]
  },
  {
   "cell_type": "code",
   "execution_count": 61,
   "metadata": {},
   "outputs": [
    {
     "data": {
      "text/html": [
       "<div>\n",
       "<style scoped>\n",
       "    .dataframe tbody tr th:only-of-type {\n",
       "        vertical-align: middle;\n",
       "    }\n",
       "\n",
       "    .dataframe tbody tr th {\n",
       "        vertical-align: top;\n",
       "    }\n",
       "\n",
       "    .dataframe thead th {\n",
       "        text-align: right;\n",
       "    }\n",
       "</style>\n",
       "<table border=\"1\" class=\"dataframe\">\n",
       "  <thead>\n",
       "    <tr style=\"text-align: right;\">\n",
       "      <th></th>\n",
       "      <th>id</th>\n",
       "      <th>popularity</th>\n",
       "      <th>budget</th>\n",
       "      <th>revenue</th>\n",
       "      <th>original_title</th>\n",
       "      <th>cast</th>\n",
       "      <th>director</th>\n",
       "      <th>keywords</th>\n",
       "      <th>runtime</th>\n",
       "      <th>genres</th>\n",
       "      <th>production_companies</th>\n",
       "      <th>release_date</th>\n",
       "      <th>vote_count</th>\n",
       "      <th>vote_average</th>\n",
       "      <th>release_year</th>\n",
       "      <th>budget_levels</th>\n",
       "      <th>runtime_levels</th>\n",
       "    </tr>\n",
       "  </thead>\n",
       "  <tbody>\n",
       "    <tr>\n",
       "      <th>0</th>\n",
       "      <td>135397</td>\n",
       "      <td>32.985763</td>\n",
       "      <td>150000000.0</td>\n",
       "      <td>1.513529e+09</td>\n",
       "      <td>Jurassic World</td>\n",
       "      <td>Chris Pratt|Bryce Dallas Howard|Irrfan Khan|Vi...</td>\n",
       "      <td>Colin Trevorrow</td>\n",
       "      <td>monster|dna|tyrannosaurus rex|velociraptor|island</td>\n",
       "      <td>124</td>\n",
       "      <td>Action|Adventure|Science Fiction|Thriller</td>\n",
       "      <td>Universal Studios|Amblin Entertainment|Legenda...</td>\n",
       "      <td>6/9/15</td>\n",
       "      <td>5562</td>\n",
       "      <td>6.5</td>\n",
       "      <td>2015</td>\n",
       "      <td>High</td>\n",
       "      <td>High</td>\n",
       "    </tr>\n",
       "  </tbody>\n",
       "</table>\n",
       "</div>"
      ],
      "text/plain": [
       "       id  popularity       budget       revenue  original_title  \\\n",
       "0  135397   32.985763  150000000.0  1.513529e+09  Jurassic World   \n",
       "\n",
       "                                                cast         director  \\\n",
       "0  Chris Pratt|Bryce Dallas Howard|Irrfan Khan|Vi...  Colin Trevorrow   \n",
       "\n",
       "                                            keywords  runtime  \\\n",
       "0  monster|dna|tyrannosaurus rex|velociraptor|island      124   \n",
       "\n",
       "                                      genres  \\\n",
       "0  Action|Adventure|Science Fiction|Thriller   \n",
       "\n",
       "                                production_companies release_date  vote_count  \\\n",
       "0  Universal Studios|Amblin Entertainment|Legenda...       6/9/15        5562   \n",
       "\n",
       "   vote_average  release_year budget_levels runtime_levels  \n",
       "0           6.5          2015          High           High  "
      ]
     },
     "execution_count": 61,
     "metadata": {},
     "output_type": "execute_result"
    }
   ],
   "source": [
    "df = cut_into_quantile(df,'runtime')\n",
    "df.head(1)"
   ]
  },
  {
   "cell_type": "code",
   "execution_count": 62,
   "metadata": {},
   "outputs": [
    {
     "data": {
      "text/plain": [
       "runtime_levels\n",
       "Low                0.418723\n",
       "Medium             0.551560\n",
       "Moderately High    0.656342\n",
       "High               1.019749\n",
       "Name: popularity, dtype: float64"
      ]
     },
     "execution_count": 62,
     "metadata": {},
     "output_type": "execute_result"
    }
   ],
   "source": [
    "# Find the mean popularity of each level with groupby\n",
    "result_mean = df.groupby('runtime_levels')['popularity'].mean()\n",
    "result_mean"
   ]
  },
  {
   "cell_type": "code",
   "execution_count": 63,
   "metadata": {},
   "outputs": [
    {
     "data": {
      "text/plain": [
       "runtime_levels\n",
       "Low                0.290399\n",
       "Medium             0.366125\n",
       "Moderately High    0.420568\n",
       "High               0.529933\n",
       "Name: popularity, dtype: float64"
      ]
     },
     "execution_count": 63,
     "metadata": {},
     "output_type": "execute_result"
    }
   ],
   "source": [
    "# Find the median popularity of each level with groupby\n",
    "result_median = df.groupby('runtime_levels')['popularity'].median()\n",
    "result_median"
   ]
  },
  {
   "cell_type": "markdown",
   "metadata": {},
   "source": [
    "Let's handle the visualisation now"
   ]
  },
  {
   "cell_type": "code",
   "execution_count": 65,
   "metadata": {},
   "outputs": [
    {
     "data": {
      "text/plain": [
       "<matplotlib.legend.Legend at 0x1a26e05f10>"
      ]
     },
     "execution_count": 65,
     "metadata": {},
     "output_type": "execute_result"
    },
    {
     "data": {
      "image/png": "[encoded data removed]",
      "text/plain": [
       "<Figure size 432x288 with 1 Axes>"
      ]
     },
     "metadata": {},
     "output_type": "display_data"
    }
   ],
   "source": [
    "ind = np.arange(len(result_median))  # the x locations for the groups\n",
    "width = 0.5       # the width of the bars\n",
    "\n",
    "# plot bars\n",
    "bars = plt.bar(ind, result_median, width, color='#1ea2bc', alpha=.7, label='median')\n",
    "\n",
    "# title and labels\n",
    "plt.ylabel('popularity')\n",
    "plt.xlabel('runtime levels')\n",
    "plt.title('Popularity with Runtime Levels')\n",
    "locations = ind  # xtick locations，345...\n",
    "labels = result_median.index  \n",
    "plt.xticks(locations, labels)\n",
    "# legend\n",
    "plt.legend()"
   ]
  },
  {
   "cell_type": "markdown",
   "metadata": {},
   "source": [
    "We can tell from the result above that movies with higher popularity have longer runtime"
   ]
  },
  {
   "cell_type": "markdown",
   "metadata": {},
   "source": [
    " let's check the casts, directors, keywords, genres and production companies which are associated with high popularity?"
   ]
  },
  {
   "cell_type": "code",
   "execution_count": 66,
   "metadata": {},
   "outputs": [
    {
     "data": {
      "text/html": [
       "<div>\n",
       "<style scoped>\n",
       "    .dataframe tbody tr th:only-of-type {\n",
       "        vertical-align: middle;\n",
       "    }\n",
       "\n",
       "    .dataframe tbody tr th {\n",
       "        vertical-align: top;\n",
       "    }\n",
       "\n",
       "    .dataframe thead th {\n",
       "        text-align: right;\n",
       "    }\n",
       "</style>\n",
       "<table border=\"1\" class=\"dataframe\">\n",
       "  <thead>\n",
       "    <tr style=\"text-align: right;\">\n",
       "      <th></th>\n",
       "      <th>id</th>\n",
       "      <th>popularity</th>\n",
       "      <th>budget</th>\n",
       "      <th>revenue</th>\n",
       "      <th>original_title</th>\n",
       "      <th>cast</th>\n",
       "      <th>director</th>\n",
       "      <th>keywords</th>\n",
       "      <th>runtime</th>\n",
       "      <th>genres</th>\n",
       "      <th>production_companies</th>\n",
       "      <th>release_date</th>\n",
       "      <th>vote_count</th>\n",
       "      <th>vote_average</th>\n",
       "      <th>release_year</th>\n",
       "    </tr>\n",
       "  </thead>\n",
       "  <tbody>\n",
       "    <tr>\n",
       "      <th>0</th>\n",
       "      <td>539</td>\n",
       "      <td>2.610362</td>\n",
       "      <td>806948.0</td>\n",
       "      <td>32000000.0</td>\n",
       "      <td>Psycho</td>\n",
       "      <td>Anthony Perkins|Vera Miles|John Gavin|Janet Le...</td>\n",
       "      <td>Alfred Hitchcock</td>\n",
       "      <td>hotel|clerk|arizona|shower|rain</td>\n",
       "      <td>109</td>\n",
       "      <td>Drama|Horror|Thriller</td>\n",
       "      <td>Shamley Productions</td>\n",
       "      <td>8/14/60</td>\n",
       "      <td>1180</td>\n",
       "      <td>8.0</td>\n",
       "      <td>1960</td>\n",
       "    </tr>\n",
       "    <tr>\n",
       "      <th>1</th>\n",
       "      <td>966</td>\n",
       "      <td>1.872132</td>\n",
       "      <td>2000000.0</td>\n",
       "      <td>4905000.0</td>\n",
       "      <td>The Magnificent Seven</td>\n",
       "      <td>Yul Brynner|Eli Wallach|Steve McQueen|Charles ...</td>\n",
       "      <td>John Sturges</td>\n",
       "      <td>horse|village|friendship|remake|number in title</td>\n",
       "      <td>128</td>\n",
       "      <td>Action|Adventure|Western</td>\n",
       "      <td>The Mirisch Corporation|Alpha Productions</td>\n",
       "      <td>10/23/60</td>\n",
       "      <td>224</td>\n",
       "      <td>7.0</td>\n",
       "      <td>1960</td>\n",
       "    </tr>\n",
       "  </tbody>\n",
       "</table>\n",
       "</div>"
      ],
      "text/plain": [
       "    id  popularity     budget     revenue         original_title  \\\n",
       "0  539    2.610362   806948.0  32000000.0                 Psycho   \n",
       "1  966    1.872132  2000000.0   4905000.0  The Magnificent Seven   \n",
       "\n",
       "                                                cast          director  \\\n",
       "0  Anthony Perkins|Vera Miles|John Gavin|Janet Le...  Alfred Hitchcock   \n",
       "1  Yul Brynner|Eli Wallach|Steve McQueen|Charles ...      John Sturges   \n",
       "\n",
       "                                          keywords  runtime  \\\n",
       "0                  hotel|clerk|arizona|shower|rain      109   \n",
       "1  horse|village|friendship|remake|number in title      128   \n",
       "\n",
       "                     genres                       production_companies  \\\n",
       "0     Drama|Horror|Thriller                        Shamley Productions   \n",
       "1  Action|Adventure|Western  The Mirisch Corporation|Alpha Productions   \n",
       "\n",
       "  release_date  vote_count  vote_average  release_year  \n",
       "0      8/14/60        1180           8.0          1960  \n",
       "1     10/23/60         224           7.0          1960  "
      ]
     },
     "execution_count": 66,
     "metadata": {},
     "output_type": "execute_result"
    }
   ],
   "source": [
    "df_top_p.head(2)"
   ]
  },
  {
   "cell_type": "markdown",
   "metadata": {},
   "source": [
    "let's find the three highest occurrences in each category among the top 100 popular movies."
   ]
  },
  {
   "cell_type": "code",
   "execution_count": 67,
   "metadata": {},
   "outputs": [],
   "source": [
    "# find top three cast\n",
    "a = find_top(df_top_p.cast)\n",
    "# find top three director\n",
    "b = find_top(df_top_p.director)\n",
    "# find top three keywords\n",
    "c = find_top(df_top_p.keywords)\n",
    "# find top three genres\n",
    "d = find_top(df_top_p.genres)\n",
    "# find top three production companies\n",
    "e = find_top(df_top_p.production_companies)"
   ]
  },
  {
   "cell_type": "markdown",
   "metadata": {},
   "source": [
    "let's create a summary table"
   ]
  },
  {
   "cell_type": "code",
   "execution_count": 68,
   "metadata": {},
   "outputs": [
    {
     "data": {
      "text/html": [
       "<div>\n",
       "<style scoped>\n",
       "    .dataframe tbody tr th:only-of-type {\n",
       "        vertical-align: middle;\n",
       "    }\n",
       "\n",
       "    .dataframe tbody tr th {\n",
       "        vertical-align: top;\n",
       "    }\n",
       "\n",
       "    .dataframe thead th {\n",
       "        text-align: right;\n",
       "    }\n",
       "</style>\n",
       "<table border=\"1\" class=\"dataframe\">\n",
       "  <thead>\n",
       "    <tr style=\"text-align: right;\">\n",
       "      <th></th>\n",
       "      <th>popular_cast</th>\n",
       "      <th>popular_director</th>\n",
       "      <th>popular_keywords</th>\n",
       "      <th>popular_genres</th>\n",
       "      <th>popular_producer</th>\n",
       "    </tr>\n",
       "  </thead>\n",
       "  <tbody>\n",
       "    <tr>\n",
       "      <th>0</th>\n",
       "      <td>Robert De Niro</td>\n",
       "      <td>Woody Allen</td>\n",
       "      <td>based on novel</td>\n",
       "      <td>Drama</td>\n",
       "      <td>Warner Bros.</td>\n",
       "    </tr>\n",
       "    <tr>\n",
       "      <th>1</th>\n",
       "      <td>Bruce Willis</td>\n",
       "      <td>Steven Spielberg</td>\n",
       "      <td>sex</td>\n",
       "      <td>Comedy</td>\n",
       "      <td>Universal Pictures</td>\n",
       "    </tr>\n",
       "    <tr>\n",
       "      <th>2</th>\n",
       "      <td>Nicolas Cage</td>\n",
       "      <td>Clint Eastwood</td>\n",
       "      <td>dystopia</td>\n",
       "      <td>Thriller</td>\n",
       "      <td>Paramount Pictures</td>\n",
       "    </tr>\n",
       "  </tbody>\n",
       "</table>\n",
       "</div>"
      ],
      "text/plain": [
       "     popular_cast  popular_director popular_keywords popular_genres  \\\n",
       "0  Robert De Niro       Woody Allen   based on novel          Drama   \n",
       "1    Bruce Willis  Steven Spielberg              sex         Comedy   \n",
       "2    Nicolas Cage    Clint Eastwood         dystopia       Thriller   \n",
       "\n",
       "     popular_producer  \n",
       "0        Warner Bros.  \n",
       "1  Universal Pictures  \n",
       "2  Paramount Pictures  "
      ]
     },
     "execution_count": 68,
     "metadata": {},
     "output_type": "execute_result"
    }
   ],
   "source": [
    "#Use the result above to create a summary dataframe.\n",
    "df_popular = pd.DataFrame({'popular_cast': a.index, 'popular_director': b.index, 'popular_keywords': c.index, 'popular_genres': d.index, 'popular_producer': e.index})\n",
    "df_popular"
   ]
  },
  {
   "cell_type": "markdown",
   "metadata": {},
   "source": [
    "let's find the three highest occurrences in each category among the 100 unpopular movies."
   ]
  },
  {
   "cell_type": "code",
   "execution_count": 69,
   "metadata": {},
   "outputs": [
    {
     "data": {
      "text/html": [
       "<div>\n",
       "<style scoped>\n",
       "    .dataframe tbody tr th:only-of-type {\n",
       "        vertical-align: middle;\n",
       "    }\n",
       "\n",
       "    .dataframe tbody tr th {\n",
       "        vertical-align: top;\n",
       "    }\n",
       "\n",
       "    .dataframe thead th {\n",
       "        text-align: right;\n",
       "    }\n",
       "</style>\n",
       "<table border=\"1\" class=\"dataframe\">\n",
       "  <thead>\n",
       "    <tr style=\"text-align: right;\">\n",
       "      <th></th>\n",
       "      <th>id</th>\n",
       "      <th>popularity</th>\n",
       "      <th>budget</th>\n",
       "      <th>revenue</th>\n",
       "      <th>original_title</th>\n",
       "      <th>cast</th>\n",
       "      <th>director</th>\n",
       "      <th>keywords</th>\n",
       "      <th>runtime</th>\n",
       "      <th>genres</th>\n",
       "      <th>production_companies</th>\n",
       "      <th>release_date</th>\n",
       "      <th>vote_count</th>\n",
       "      <th>vote_average</th>\n",
       "      <th>release_year</th>\n",
       "    </tr>\n",
       "  </thead>\n",
       "  <tbody>\n",
       "    <tr>\n",
       "      <th>0</th>\n",
       "      <td>18973</td>\n",
       "      <td>0.055821</td>\n",
       "      <td>3000000.0</td>\n",
       "      <td>7100000.0</td>\n",
       "      <td>Cinderfella</td>\n",
       "      <td>Jerry Lewis|Ed Wynn|Judith Anderson|Henry Silv...</td>\n",
       "      <td>Frank Tashlin</td>\n",
       "      <td>NaN</td>\n",
       "      <td>91</td>\n",
       "      <td>Comedy|Romance</td>\n",
       "      <td>Paramount Pictures|Jerry Lewis Productions</td>\n",
       "      <td>12/18/60</td>\n",
       "      <td>13</td>\n",
       "      <td>7.2</td>\n",
       "      <td>1960</td>\n",
       "    </tr>\n",
       "    <tr>\n",
       "      <th>1</th>\n",
       "      <td>39890</td>\n",
       "      <td>0.065808</td>\n",
       "      <td>NaN</td>\n",
       "      <td>NaN</td>\n",
       "      <td>The City of the Dead</td>\n",
       "      <td>Christopher Lee|Dennis Lotis|Patricia Jessel|T...</td>\n",
       "      <td>John Llewellyn Moxey</td>\n",
       "      <td>witch|burning of witches|witch burning|witchcraft</td>\n",
       "      <td>76</td>\n",
       "      <td>Horror</td>\n",
       "      <td>Vulcan Productions Inc.</td>\n",
       "      <td>9/9/60</td>\n",
       "      <td>13</td>\n",
       "      <td>6.1</td>\n",
       "      <td>1960</td>\n",
       "    </tr>\n",
       "  </tbody>\n",
       "</table>\n",
       "</div>"
      ],
      "text/plain": [
       "      id  popularity     budget    revenue        original_title  \\\n",
       "0  18973    0.055821  3000000.0  7100000.0           Cinderfella   \n",
       "1  39890    0.065808        NaN        NaN  The City of the Dead   \n",
       "\n",
       "                                                cast              director  \\\n",
       "0  Jerry Lewis|Ed Wynn|Judith Anderson|Henry Silv...         Frank Tashlin   \n",
       "1  Christopher Lee|Dennis Lotis|Patricia Jessel|T...  John Llewellyn Moxey   \n",
       "\n",
       "                                            keywords  runtime          genres  \\\n",
       "0                                                NaN       91  Comedy|Romance   \n",
       "1  witch|burning of witches|witch burning|witchcraft       76          Horror   \n",
       "\n",
       "                         production_companies release_date  vote_count  \\\n",
       "0  Paramount Pictures|Jerry Lewis Productions     12/18/60          13   \n",
       "1                     Vulcan Productions Inc.       9/9/60          13   \n",
       "\n",
       "   vote_average  release_year  \n",
       "0           7.2          1960  \n",
       "1           6.1          1960  "
      ]
     },
     "execution_count": 69,
     "metadata": {},
     "output_type": "execute_result"
    }
   ],
   "source": [
    "# call the dataset wiht the 100 unpopular movies in each year\n",
    "df_low_p.head(2)"
   ]
  },
  {
   "cell_type": "code",
   "execution_count": 71,
   "metadata": {},
   "outputs": [
    {
     "data": {
      "text/html": [
       "<div>\n",
       "<style scoped>\n",
       "    .dataframe tbody tr th:only-of-type {\n",
       "        vertical-align: middle;\n",
       "    }\n",
       "\n",
       "    .dataframe tbody tr th {\n",
       "        vertical-align: top;\n",
       "    }\n",
       "\n",
       "    .dataframe thead th {\n",
       "        text-align: right;\n",
       "    }\n",
       "</style>\n",
       "<table border=\"1\" class=\"dataframe\">\n",
       "  <thead>\n",
       "    <tr style=\"text-align: right;\">\n",
       "      <th></th>\n",
       "      <th>unpopular_cast</th>\n",
       "      <th>unpopular_director</th>\n",
       "      <th>unpopular_keywords</th>\n",
       "      <th>unpopular_genres</th>\n",
       "      <th>unpopular_producer</th>\n",
       "    </tr>\n",
       "  </thead>\n",
       "  <tbody>\n",
       "    <tr>\n",
       "      <th>0</th>\n",
       "      <td>Clint Eastwood</td>\n",
       "      <td>Woody Allen</td>\n",
       "      <td>independent film</td>\n",
       "      <td>Drama</td>\n",
       "      <td>Universal Pictures</td>\n",
       "    </tr>\n",
       "    <tr>\n",
       "      <th>1</th>\n",
       "      <td>Michael Caine</td>\n",
       "      <td>Clint Eastwood</td>\n",
       "      <td>woman director</td>\n",
       "      <td>Comedy</td>\n",
       "      <td>Warner Bros.</td>\n",
       "    </tr>\n",
       "    <tr>\n",
       "      <th>2</th>\n",
       "      <td>Sean Connery</td>\n",
       "      <td>Blake Edwards</td>\n",
       "      <td>sex</td>\n",
       "      <td>Thriller</td>\n",
       "      <td>Paramount Pictures</td>\n",
       "    </tr>\n",
       "  </tbody>\n",
       "</table>\n",
       "</div>"
      ],
      "text/plain": [
       "   unpopular_cast unpopular_director unpopular_keywords unpopular_genres  \\\n",
       "0  Clint Eastwood        Woody Allen   independent film            Drama   \n",
       "1   Michael Caine     Clint Eastwood     woman director           Comedy   \n",
       "2    Sean Connery      Blake Edwards                sex         Thriller   \n",
       "\n",
       "   unpopular_producer  \n",
       "0  Universal Pictures  \n",
       "1        Warner Bros.  \n",
       "2  Paramount Pictures  "
      ]
     },
     "execution_count": 71,
     "metadata": {},
     "output_type": "execute_result"
    }
   ],
   "source": [
    "# find top three cast among the among the 100 unpopular movies\n",
    "na = find_top(df_low_p.cast)\n",
    "# find top three director among the among the 100 unpopular movies\n",
    "nb = find_top(df_low_p.director)\n",
    "# find top three keywords among the among the 100 unpopular movies\n",
    "nc = find_top(df_low_p.keywords)\n",
    "# find top three genres among the among the 100 unpopular movies\n",
    "nd = find_top(df_low_p.genres)\n",
    "# find top three production companiess among the among the 100 unpopular movies\n",
    "ne = find_top(df_low_p.production_companies)\n",
    "\n",
    "df_unpopular = pd.DataFrame({'unpopular_cast': na.index, 'unpopular_director': nb.index, 'unpopular_keywords': nc.index, 'unpopular_genres': nd.index, 'unpopular_producer': ne.index})\n",
    "df_unpopular"
   ]
  },
  {
   "cell_type": "code",
   "execution_count": 73,
   "metadata": {},
   "outputs": [
    {
     "data": {
      "text/html": [
       "<div>\n",
       "<style scoped>\n",
       "    .dataframe tbody tr th:only-of-type {\n",
       "        vertical-align: middle;\n",
       "    }\n",
       "\n",
       "    .dataframe tbody tr th {\n",
       "        vertical-align: top;\n",
       "    }\n",
       "\n",
       "    .dataframe thead th {\n",
       "        text-align: right;\n",
       "    }\n",
       "</style>\n",
       "<table border=\"1\" class=\"dataframe\">\n",
       "  <thead>\n",
       "    <tr style=\"text-align: right;\">\n",
       "      <th></th>\n",
       "      <th>popular_cast</th>\n",
       "      <th>popular_director</th>\n",
       "      <th>popular_keywords</th>\n",
       "      <th>popular_genres</th>\n",
       "      <th>popular_producer</th>\n",
       "    </tr>\n",
       "  </thead>\n",
       "  <tbody>\n",
       "    <tr>\n",
       "      <th>0</th>\n",
       "      <td>Robert De Niro</td>\n",
       "      <td>Woody Allen</td>\n",
       "      <td>based on novel</td>\n",
       "      <td>Drama</td>\n",
       "      <td>Warner Bros.</td>\n",
       "    </tr>\n",
       "    <tr>\n",
       "      <th>1</th>\n",
       "      <td>Bruce Willis</td>\n",
       "      <td>Steven Spielberg</td>\n",
       "      <td>sex</td>\n",
       "      <td>Comedy</td>\n",
       "      <td>Universal Pictures</td>\n",
       "    </tr>\n",
       "    <tr>\n",
       "      <th>2</th>\n",
       "      <td>Nicolas Cage</td>\n",
       "      <td>Clint Eastwood</td>\n",
       "      <td>dystopia</td>\n",
       "      <td>Thriller</td>\n",
       "      <td>Paramount Pictures</td>\n",
       "    </tr>\n",
       "  </tbody>\n",
       "</table>\n",
       "</div>"
      ],
      "text/plain": [
       "     popular_cast  popular_director popular_keywords popular_genres  \\\n",
       "0  Robert De Niro       Woody Allen   based on novel          Drama   \n",
       "1    Bruce Willis  Steven Spielberg              sex         Comedy   \n",
       "2    Nicolas Cage    Clint Eastwood         dystopia       Thriller   \n",
       "\n",
       "     popular_producer  \n",
       "0        Warner Bros.  \n",
       "1  Universal Pictures  \n",
       "2  Paramount Pictures  "
      ]
     },
     "execution_count": 73,
     "metadata": {},
     "output_type": "execute_result"
    }
   ],
   "source": [
    "# compare\n",
    "df_popular"
   ]
  },
  {
   "cell_type": "markdown",
   "metadata": {},
   "source": [
    "Let's compare the two tables above and take conclusions. \n",
    "\n",
    "1. director Woody Allen and Clint Eastwood are appeared in both popular and unpopular movies; \n",
    "2. all three genres Drama, Comedy, Thriller are appeared in both popular and unpopular movies;\n",
    "3. sex is appeared in both popular and unpopular movies;\n",
    "4. all three producer Universal Pictures, Warner Bros, Paramount Pictures are appeared in both popular and unpopular movies.\n",
    "\n",
    "Conclusions:\n",
    "\n",
    "* casts associated with high popularity are  Robert De Niro and Bruce Willis\n",
    "* Directors associated with high popularity movies are Steven Spielberg. This makes sense because the guys a lot of awards and prices of recognition. \n",
    "* Both of the most popular and unpopular movies are associated three mainly genres: Drama, Comedy, and Thriller. This implies that these are the most common genres in the industry\n",
    "* Keywords associated with high popularity movies: based on novel and dystopia. Most of the movies which are famous out there are really based on the two. it's not a surprise that it comes out like that.\n",
    "* Producer associated with high popularity movies and unpopularity movies: Warner Bros., Universal Pictures and Paramount Pictures. The three giants of movie indusry did produce such a various quality movies!"
   ]
  },
  {
   "cell_type": "markdown",
   "metadata": {},
   "source": [
    "### Research Question 4. What kinds of properties are associated with movies that have high voting score?\n",
    "\n",
    "\n",
    "let's use dataframe the with budget level I have created in the previous then find the mean and median of vote_average group by different budget level.\n",
    "\n"
   ]
  },
  {
   "cell_type": "code",
   "execution_count": 74,
   "metadata": {},
   "outputs": [
    {
     "data": {
      "text/plain": [
       "budget_levels\n",
       "Low                5.947569\n",
       "Medium             6.016922\n",
       "Moderately High    6.066133\n",
       "High               6.104504\n",
       "Name: vote_average, dtype: float64"
      ]
     },
     "execution_count": 74,
     "metadata": {},
     "output_type": "execute_result"
    }
   ],
   "source": [
    "result_mean = df.groupby('budget_levels')['vote_average'].mean()\n",
    "result_mean"
   ]
  },
  {
   "cell_type": "code",
   "execution_count": 75,
   "metadata": {},
   "outputs": [
    {
     "data": {
      "text/plain": [
       "budget_levels\n",
       "Low                6.0\n",
       "Medium             6.1\n",
       "Moderately High    6.1\n",
       "High               6.1\n",
       "Name: vote_average, dtype: float64"
      ]
     },
     "execution_count": 75,
     "metadata": {},
     "output_type": "execute_result"
    }
   ],
   "source": [
    "result_median = df.groupby('budget_levels')['vote_average'].median()\n",
    "result_median"
   ]
  },
  {
   "cell_type": "markdown",
   "metadata": {},
   "source": [
    "Let's handle the visualization"
   ]
  },
  {
   "cell_type": "code",
   "execution_count": 76,
   "metadata": {},
   "outputs": [
    {
     "data": {
      "text/plain": [
       "<matplotlib.legend.Legend at 0x1a285db1d0>"
      ]
     },
     "execution_count": 76,
     "metadata": {},
     "output_type": "execute_result"
    },
    {
     "data": {
      "image/png": "[encoded data removed]",
      "text/plain": [
       "<Figure size 576x432 with 1 Axes>"
      ]
     },
     "metadata": {},
     "output_type": "display_data"
    }
   ],
   "source": [
    "# plot bars\n",
    "#set style\n",
    "sns.set_style('darkgrid')\n",
    "ind = np.arange(len(result_mean))  # the x locations for the groups\n",
    "width = 0.5       # the width of the bars\n",
    "\n",
    "# plot bars\n",
    "plt.subplots(figsize=(8, 6))\n",
    "bars = plt.bar(ind, result_median, width, color='y', alpha=.7, label='mean')\n",
    "\n",
    "# title and labels\n",
    "plt.ylabel('rating')\n",
    "plt.xlabel('budget levels')\n",
    "plt.title('Rating with Budget Levels')\n",
    "locations = ind  # xtick locations，345...\n",
    "labels = result_median.index  \n",
    "plt.xticks(locations, labels)\n",
    "# legend\n",
    "plt.legend( loc='upper left')"
   ]
  },
  {
   "cell_type": "markdown",
   "metadata": {},
   "source": [
    "The result above shows that there is no big difference in average voting score at different budget levels. This implies that may be a high budget movie is not necessarily a good quality movie."
   ]
  },
  {
   "cell_type": "markdown",
   "metadata": {},
   "source": [
    "let's check the runtime levels which are associated with movies that have high voting score"
   ]
  },
  {
   "cell_type": "code",
   "execution_count": 77,
   "metadata": {},
   "outputs": [
    {
     "data": {
      "text/plain": [
       "runtime_levels\n",
       "Low                5.726425\n",
       "Medium             5.724355\n",
       "Moderately High    6.044946\n",
       "High               6.401297\n",
       "Name: vote_average, dtype: float64"
      ]
     },
     "execution_count": 77,
     "metadata": {},
     "output_type": "execute_result"
    }
   ],
   "source": [
    "# Find the mean popularity of each level with groupby\n",
    "result_mean = df.groupby('runtime_levels')['vote_average'].mean()\n",
    "result_mean"
   ]
  },
  {
   "cell_type": "code",
   "execution_count": 78,
   "metadata": {},
   "outputs": [
    {
     "data": {
      "text/plain": [
       "runtime_levels\n",
       "Low                5.8\n",
       "Medium             5.8\n",
       "Moderately High    6.1\n",
       "High               6.4\n",
       "Name: vote_average, dtype: float64"
      ]
     },
     "execution_count": 78,
     "metadata": {},
     "output_type": "execute_result"
    }
   ],
   "source": [
    "result_median = df.groupby('runtime_levels')['vote_average'].median()\n",
    "result_median"
   ]
  },
  {
   "cell_type": "code",
   "execution_count": 79,
   "metadata": {},
   "outputs": [
    {
     "data": {
      "text/plain": [
       "<matplotlib.legend.Legend at 0x1a2828cc10>"
      ]
     },
     "execution_count": 79,
     "metadata": {},
     "output_type": "execute_result"
    },
    {
     "data": {
      "image/png": "[encoded data removed]",
      "text/plain": [
       "<Figure size 432x288 with 1 Axes>"
      ]
     },
     "metadata": {},
     "output_type": "display_data"
    }
   ],
   "source": [
    "ind = np.arange(len(result_mean))  # the x locations for the groups\n",
    "width = 0.5       # the width of the bars\n",
    "\n",
    "# plot bars\n",
    "bars = plt.bar(ind, result_median, width, color='g', alpha=.7, label='mean')\n",
    "\n",
    "# title and labels\n",
    "plt.ylabel('rating')\n",
    "plt.xlabel('runtime levels')\n",
    "plt.title('Rating with Runtime Levels')\n",
    "locations = ind  # xtick locations，345...\n",
    "labels = result_median.index  \n",
    "plt.xticks(locations, labels)\n",
    "# legend\n",
    "plt.legend()"
   ]
  },
  {
   "cell_type": "markdown",
   "metadata": {},
   "source": [
    "Once again the result above shows that there is no big diference in average voting score in different runtime levels. This implies that maybe long runtime of a movie is not necessary to a good quality of movie."
   ]
  },
  {
   "cell_type": "markdown",
   "metadata": {},
   "source": [
    "### Research Question 4. What's the directors, keywords, genres are associated with voting score?"
   ]
  },
  {
   "cell_type": "markdown",
   "metadata": {},
   "source": [
    "let's use the dateframe about top 100 high voting score movies in each year."
   ]
  },
  {
   "cell_type": "code",
   "execution_count": 80,
   "metadata": {},
   "outputs": [
    {
     "data": {
      "text/html": [
       "<div>\n",
       "<style scoped>\n",
       "    .dataframe tbody tr th:only-of-type {\n",
       "        vertical-align: middle;\n",
       "    }\n",
       "\n",
       "    .dataframe tbody tr th {\n",
       "        vertical-align: top;\n",
       "    }\n",
       "\n",
       "    .dataframe thead th {\n",
       "        text-align: right;\n",
       "    }\n",
       "</style>\n",
       "<table border=\"1\" class=\"dataframe\">\n",
       "  <thead>\n",
       "    <tr style=\"text-align: right;\">\n",
       "      <th></th>\n",
       "      <th>id</th>\n",
       "      <th>popularity</th>\n",
       "      <th>budget</th>\n",
       "      <th>revenue</th>\n",
       "      <th>original_title</th>\n",
       "      <th>cast</th>\n",
       "      <th>director</th>\n",
       "      <th>keywords</th>\n",
       "      <th>runtime</th>\n",
       "      <th>genres</th>\n",
       "      <th>production_companies</th>\n",
       "      <th>release_date</th>\n",
       "      <th>vote_count</th>\n",
       "      <th>vote_average</th>\n",
       "      <th>release_year</th>\n",
       "    </tr>\n",
       "  </thead>\n",
       "  <tbody>\n",
       "    <tr>\n",
       "      <th>0</th>\n",
       "      <td>539</td>\n",
       "      <td>2.610362</td>\n",
       "      <td>806948.0</td>\n",
       "      <td>32000000.0</td>\n",
       "      <td>Psycho</td>\n",
       "      <td>Anthony Perkins|Vera Miles|John Gavin|Janet Le...</td>\n",
       "      <td>Alfred Hitchcock</td>\n",
       "      <td>hotel|clerk|arizona|shower|rain</td>\n",
       "      <td>109</td>\n",
       "      <td>Drama|Horror|Thriller</td>\n",
       "      <td>Shamley Productions</td>\n",
       "      <td>8/14/60</td>\n",
       "      <td>1180</td>\n",
       "      <td>8.0</td>\n",
       "      <td>1960</td>\n",
       "    </tr>\n",
       "    <tr>\n",
       "      <th>1</th>\n",
       "      <td>284</td>\n",
       "      <td>0.947307</td>\n",
       "      <td>3000000.0</td>\n",
       "      <td>25000000.0</td>\n",
       "      <td>The Apartment</td>\n",
       "      <td>Jack Lemmon|Shirley MacLaine|Fred MacMurray|Ra...</td>\n",
       "      <td>Billy Wilder</td>\n",
       "      <td>new york|new year's eve|lovesickness|age diffe...</td>\n",
       "      <td>125</td>\n",
       "      <td>Comedy|Drama|Romance</td>\n",
       "      <td>United Artists|The Mirisch Company</td>\n",
       "      <td>6/15/60</td>\n",
       "      <td>235</td>\n",
       "      <td>7.9</td>\n",
       "      <td>1960</td>\n",
       "    </tr>\n",
       "  </tbody>\n",
       "</table>\n",
       "</div>"
      ],
      "text/plain": [
       "    id  popularity     budget     revenue original_title  \\\n",
       "0  539    2.610362   806948.0  32000000.0         Psycho   \n",
       "1  284    0.947307  3000000.0  25000000.0  The Apartment   \n",
       "\n",
       "                                                cast          director  \\\n",
       "0  Anthony Perkins|Vera Miles|John Gavin|Janet Le...  Alfred Hitchcock   \n",
       "1  Jack Lemmon|Shirley MacLaine|Fred MacMurray|Ra...      Billy Wilder   \n",
       "\n",
       "                                            keywords  runtime  \\\n",
       "0                    hotel|clerk|arizona|shower|rain      109   \n",
       "1  new york|new year's eve|lovesickness|age diffe...      125   \n",
       "\n",
       "                  genres                production_companies release_date  \\\n",
       "0  Drama|Horror|Thriller                 Shamley Productions      8/14/60   \n",
       "1   Comedy|Drama|Romance  United Artists|The Mirisch Company      6/15/60   \n",
       "\n",
       "   vote_count  vote_average  release_year  \n",
       "0        1180           8.0          1960  \n",
       "1         235           7.9          1960  "
      ]
     },
     "execution_count": 80,
     "metadata": {},
     "output_type": "execute_result"
    }
   ],
   "source": [
    "df_top_s.head(2)"
   ]
  },
  {
   "cell_type": "markdown",
   "metadata": {},
   "source": [
    "then let's find the three highest occurrences in each category then put it in a summary table"
   ]
  },
  {
   "cell_type": "code",
   "execution_count": 82,
   "metadata": {},
   "outputs": [
    {
     "data": {
      "text/html": [
       "<div>\n",
       "<style scoped>\n",
       "    .dataframe tbody tr th:only-of-type {\n",
       "        vertical-align: middle;\n",
       "    }\n",
       "\n",
       "    .dataframe tbody tr th {\n",
       "        vertical-align: top;\n",
       "    }\n",
       "\n",
       "    .dataframe thead th {\n",
       "        text-align: right;\n",
       "    }\n",
       "</style>\n",
       "<table border=\"1\" class=\"dataframe\">\n",
       "  <thead>\n",
       "    <tr style=\"text-align: right;\">\n",
       "      <th></th>\n",
       "      <th>high_score_director</th>\n",
       "      <th>high_score_keywords</th>\n",
       "      <th>high_score_genres</th>\n",
       "    </tr>\n",
       "  </thead>\n",
       "  <tbody>\n",
       "    <tr>\n",
       "      <th>0</th>\n",
       "      <td>Woody Allen</td>\n",
       "      <td>based on novel</td>\n",
       "      <td>Drama</td>\n",
       "    </tr>\n",
       "    <tr>\n",
       "      <th>1</th>\n",
       "      <td>Martin Scorsese</td>\n",
       "      <td>independent film</td>\n",
       "      <td>Comedy</td>\n",
       "    </tr>\n",
       "    <tr>\n",
       "      <th>2</th>\n",
       "      <td>Clint Eastwood</td>\n",
       "      <td>woman director</td>\n",
       "      <td>Thriller</td>\n",
       "    </tr>\n",
       "  </tbody>\n",
       "</table>\n",
       "</div>"
      ],
      "text/plain": [
       "  high_score_director high_score_keywords high_score_genres\n",
       "0         Woody Allen      based on novel             Drama\n",
       "1     Martin Scorsese    independent film            Comedy\n",
       "2      Clint Eastwood      woman director          Thriller"
      ]
     },
     "execution_count": 82,
     "metadata": {},
     "output_type": "execute_result"
    }
   ],
   "source": [
    "# find top three director\n",
    "a = find_top(df_top_s.director)\n",
    "# find top three keywords\n",
    "b = find_top(df_top_s.keywords)\n",
    "# find top three genres\n",
    "c = find_top(df_top_s.genres)\n",
    "\n",
    "#create a summary dataframe.\n",
    "df_high_score = pd.DataFrame({'high_score_director': a.index, 'high_score_keywords': b.index, 'high_score_genres': c.index})\n",
    "df_high_score"
   ]
  },
  {
   "cell_type": "markdown",
   "metadata": {},
   "source": [
    "let's find the three highest occurrences in each category"
   ]
  },
  {
   "cell_type": "code",
   "execution_count": 85,
   "metadata": {},
   "outputs": [
    {
     "data": {
      "text/html": [
       "<div>\n",
       "<style scoped>\n",
       "    .dataframe tbody tr th:only-of-type {\n",
       "        vertical-align: middle;\n",
       "    }\n",
       "\n",
       "    .dataframe tbody tr th {\n",
       "        vertical-align: top;\n",
       "    }\n",
       "\n",
       "    .dataframe thead th {\n",
       "        text-align: right;\n",
       "    }\n",
       "</style>\n",
       "<table border=\"1\" class=\"dataframe\">\n",
       "  <thead>\n",
       "    <tr style=\"text-align: right;\">\n",
       "      <th></th>\n",
       "      <th>id</th>\n",
       "      <th>popularity</th>\n",
       "      <th>budget</th>\n",
       "      <th>revenue</th>\n",
       "      <th>original_title</th>\n",
       "      <th>cast</th>\n",
       "      <th>director</th>\n",
       "      <th>keywords</th>\n",
       "      <th>runtime</th>\n",
       "      <th>genres</th>\n",
       "      <th>production_companies</th>\n",
       "      <th>release_date</th>\n",
       "      <th>vote_count</th>\n",
       "      <th>vote_average</th>\n",
       "      <th>release_year</th>\n",
       "    </tr>\n",
       "  </thead>\n",
       "  <tbody>\n",
       "    <tr>\n",
       "      <th>0</th>\n",
       "      <td>24014</td>\n",
       "      <td>0.875173</td>\n",
       "      <td>NaN</td>\n",
       "      <td>NaN</td>\n",
       "      <td>Let's Make Love</td>\n",
       "      <td>Marilyn Monroe|Yves Montand|Tony Randall|Frank...</td>\n",
       "      <td>George Cukor</td>\n",
       "      <td>musical</td>\n",
       "      <td>114</td>\n",
       "      <td>Comedy|Romance</td>\n",
       "      <td>Twentieth Century Fox Film Corporation|The Com...</td>\n",
       "      <td>10/7/60</td>\n",
       "      <td>15</td>\n",
       "      <td>4.9</td>\n",
       "      <td>1960</td>\n",
       "    </tr>\n",
       "    <tr>\n",
       "      <th>1</th>\n",
       "      <td>6643</td>\n",
       "      <td>0.421043</td>\n",
       "      <td>NaN</td>\n",
       "      <td>NaN</td>\n",
       "      <td>The Unforgiven</td>\n",
       "      <td>Burt Lancaster|Audrey Hepburn|Audie Murphy|Joh...</td>\n",
       "      <td>John Huston</td>\n",
       "      <td>indian|texas|farm|siblings|saddle</td>\n",
       "      <td>125</td>\n",
       "      <td>Action|Drama|Western</td>\n",
       "      <td>James Productions</td>\n",
       "      <td>1/1/60</td>\n",
       "      <td>17</td>\n",
       "      <td>4.9</td>\n",
       "      <td>1960</td>\n",
       "    </tr>\n",
       "    <tr>\n",
       "      <th>2</th>\n",
       "      <td>25767</td>\n",
       "      <td>0.390240</td>\n",
       "      <td>NaN</td>\n",
       "      <td>6000000.0</td>\n",
       "      <td>The Grass Is Greener</td>\n",
       "      <td>Cary Grant|Deborah Kerr|Robert Mitchum|Jean Si...</td>\n",
       "      <td>Stanley Donen</td>\n",
       "      <td>cheating husband|millionaire|oil tycoon</td>\n",
       "      <td>104</td>\n",
       "      <td>Comedy|Drama|Romance</td>\n",
       "      <td>Grandon Productions</td>\n",
       "      <td>12/23/60</td>\n",
       "      <td>12</td>\n",
       "      <td>4.9</td>\n",
       "      <td>1960</td>\n",
       "    </tr>\n",
       "    <tr>\n",
       "      <th>3</th>\n",
       "      <td>18780</td>\n",
       "      <td>0.194948</td>\n",
       "      <td>NaN</td>\n",
       "      <td>NaN</td>\n",
       "      <td>Sink the Bismarck!</td>\n",
       "      <td>Kenneth More|Dana Wynter|Carl MÃ¶hner|Laurence...</td>\n",
       "      <td>Lewis Gilbert</td>\n",
       "      <td>NaN</td>\n",
       "      <td>97</td>\n",
       "      <td>Action|Drama|Foreign|History|War</td>\n",
       "      <td>Twentieth Century Fox Film Corporation</td>\n",
       "      <td>2/11/60</td>\n",
       "      <td>12</td>\n",
       "      <td>4.9</td>\n",
       "      <td>1960</td>\n",
       "    </tr>\n",
       "    <tr>\n",
       "      <th>4</th>\n",
       "      <td>43040</td>\n",
       "      <td>0.269428</td>\n",
       "      <td>NaN</td>\n",
       "      <td>NaN</td>\n",
       "      <td>Sergeant Rutledge</td>\n",
       "      <td>Jeffrey Hunter|Woody Strode|Constance Towers|B...</td>\n",
       "      <td>John Ford</td>\n",
       "      <td>rape|court martial</td>\n",
       "      <td>111</td>\n",
       "      <td>Crime|Western</td>\n",
       "      <td>John Ford Productions</td>\n",
       "      <td>5/18/60</td>\n",
       "      <td>12</td>\n",
       "      <td>5.2</td>\n",
       "      <td>1960</td>\n",
       "    </tr>\n",
       "  </tbody>\n",
       "</table>\n",
       "</div>"
      ],
      "text/plain": [
       "      id  popularity  budget    revenue        original_title  \\\n",
       "0  24014    0.875173     NaN        NaN       Let's Make Love   \n",
       "1   6643    0.421043     NaN        NaN        The Unforgiven   \n",
       "2  25767    0.390240     NaN  6000000.0  The Grass Is Greener   \n",
       "3  18780    0.194948     NaN        NaN    Sink the Bismarck!   \n",
       "4  43040    0.269428     NaN        NaN     Sergeant Rutledge   \n",
       "\n",
       "                                                cast       director  \\\n",
       "0  Marilyn Monroe|Yves Montand|Tony Randall|Frank...   George Cukor   \n",
       "1  Burt Lancaster|Audrey Hepburn|Audie Murphy|Joh...    John Huston   \n",
       "2  Cary Grant|Deborah Kerr|Robert Mitchum|Jean Si...  Stanley Donen   \n",
       "3  Kenneth More|Dana Wynter|Carl MÃ¶hner|Laurence...  Lewis Gilbert   \n",
       "4  Jeffrey Hunter|Woody Strode|Constance Towers|B...      John Ford   \n",
       "\n",
       "                                  keywords  runtime  \\\n",
       "0                                  musical      114   \n",
       "1        indian|texas|farm|siblings|saddle      125   \n",
       "2  cheating husband|millionaire|oil tycoon      104   \n",
       "3                                      NaN       97   \n",
       "4                       rape|court martial      111   \n",
       "\n",
       "                             genres  \\\n",
       "0                    Comedy|Romance   \n",
       "1              Action|Drama|Western   \n",
       "2              Comedy|Drama|Romance   \n",
       "3  Action|Drama|Foreign|History|War   \n",
       "4                     Crime|Western   \n",
       "\n",
       "                                production_companies release_date  vote_count  \\\n",
       "0  Twentieth Century Fox Film Corporation|The Com...      10/7/60          15   \n",
       "1                                  James Productions       1/1/60          17   \n",
       "2                                Grandon Productions     12/23/60          12   \n",
       "3             Twentieth Century Fox Film Corporation      2/11/60          12   \n",
       "4                              John Ford Productions      5/18/60          12   \n",
       "\n",
       "   vote_average  release_year  \n",
       "0           4.9          1960  \n",
       "1           4.9          1960  \n",
       "2           4.9          1960  \n",
       "3           4.9          1960  \n",
       "4           5.2          1960  "
      ]
     },
     "execution_count": 85,
     "metadata": {},
     "output_type": "execute_result"
    }
   ],
   "source": [
    "# call the dataset wiht the 100 low rating movies in each year\n",
    "df_low_s.head(5)"
   ]
  },
  {
   "cell_type": "code",
   "execution_count": 84,
   "metadata": {},
   "outputs": [],
   "source": [
    "# find top three director among the among the 100 low rating movies\n",
    "na = find_top(df_low_s.director)\n",
    "# find top three keywords among the among the 100 low rating movies\n",
    "nb = find_top(df_low_s.keywords)\n",
    "# find top three genres among the among the 100 low rating movies\n",
    "nc = find_top(df_low_s.genres)"
   ]
  },
  {
   "cell_type": "markdown",
   "metadata": {},
   "source": [
    "let's create a summary table"
   ]
  },
  {
   "cell_type": "code",
   "execution_count": 86,
   "metadata": {},
   "outputs": [
    {
     "data": {
      "text/html": [
       "<div>\n",
       "<style scoped>\n",
       "    .dataframe tbody tr th:only-of-type {\n",
       "        vertical-align: middle;\n",
       "    }\n",
       "\n",
       "    .dataframe tbody tr th {\n",
       "        vertical-align: top;\n",
       "    }\n",
       "\n",
       "    .dataframe thead th {\n",
       "        text-align: right;\n",
       "    }\n",
       "</style>\n",
       "<table border=\"1\" class=\"dataframe\">\n",
       "  <thead>\n",
       "    <tr style=\"text-align: right;\">\n",
       "      <th></th>\n",
       "      <th>low_score_director</th>\n",
       "      <th>low_score_keywords</th>\n",
       "      <th>low_score_genres</th>\n",
       "    </tr>\n",
       "  </thead>\n",
       "  <tbody>\n",
       "    <tr>\n",
       "      <th>0</th>\n",
       "      <td>Woody Allen</td>\n",
       "      <td>sex</td>\n",
       "      <td>Comedy</td>\n",
       "    </tr>\n",
       "    <tr>\n",
       "      <th>1</th>\n",
       "      <td>John Carpenter</td>\n",
       "      <td>independent film</td>\n",
       "      <td>Drama</td>\n",
       "    </tr>\n",
       "    <tr>\n",
       "      <th>2</th>\n",
       "      <td>John Landis</td>\n",
       "      <td>suspense</td>\n",
       "      <td>Thriller</td>\n",
       "    </tr>\n",
       "  </tbody>\n",
       "</table>\n",
       "</div>"
      ],
      "text/plain": [
       "  low_score_director low_score_keywords low_score_genres\n",
       "0        Woody Allen                sex           Comedy\n",
       "1     John Carpenter   independent film            Drama\n",
       "2        John Landis           suspense         Thriller"
      ]
     },
     "execution_count": 86,
     "metadata": {},
     "output_type": "execute_result"
    }
   ],
   "source": [
    "df_low_score = pd.DataFrame({'low_score_director': na.index, 'low_score_keywords': nb.index, 'low_score_genres': nc.index})\n",
    "df_low_score"
   ]
  },
  {
   "cell_type": "code",
   "execution_count": 87,
   "metadata": {},
   "outputs": [
    {
     "data": {
      "text/html": [
       "<div>\n",
       "<style scoped>\n",
       "    .dataframe tbody tr th:only-of-type {\n",
       "        vertical-align: middle;\n",
       "    }\n",
       "\n",
       "    .dataframe tbody tr th {\n",
       "        vertical-align: top;\n",
       "    }\n",
       "\n",
       "    .dataframe thead th {\n",
       "        text-align: right;\n",
       "    }\n",
       "</style>\n",
       "<table border=\"1\" class=\"dataframe\">\n",
       "  <thead>\n",
       "    <tr style=\"text-align: right;\">\n",
       "      <th></th>\n",
       "      <th>high_score_director</th>\n",
       "      <th>high_score_keywords</th>\n",
       "      <th>high_score_genres</th>\n",
       "    </tr>\n",
       "  </thead>\n",
       "  <tbody>\n",
       "    <tr>\n",
       "      <th>0</th>\n",
       "      <td>Woody Allen</td>\n",
       "      <td>based on novel</td>\n",
       "      <td>Drama</td>\n",
       "    </tr>\n",
       "    <tr>\n",
       "      <th>1</th>\n",
       "      <td>Martin Scorsese</td>\n",
       "      <td>independent film</td>\n",
       "      <td>Comedy</td>\n",
       "    </tr>\n",
       "    <tr>\n",
       "      <th>2</th>\n",
       "      <td>Clint Eastwood</td>\n",
       "      <td>woman director</td>\n",
       "      <td>Thriller</td>\n",
       "    </tr>\n",
       "  </tbody>\n",
       "</table>\n",
       "</div>"
      ],
      "text/plain": [
       "  high_score_director high_score_keywords high_score_genres\n",
       "0         Woody Allen      based on novel             Drama\n",
       "1     Martin Scorsese    independent film            Comedy\n",
       "2      Clint Eastwood      woman director          Thriller"
      ]
     },
     "execution_count": 87,
     "metadata": {},
     "output_type": "execute_result"
    }
   ],
   "source": [
    "# compare\n",
    "df_high_score"
   ]
  },
  {
   "cell_type": "markdown",
   "metadata": {},
   "source": [
    "Looking at the two tables above, we can notice that: \n",
    "\n",
    "* Martin Scorsese and Clint Eastwood have made top quality movies on average over the past years from 1960.\n",
    "* The top quality movies have the keywords with based on novel and woman director over the past years from 1960."
   ]
  },
  {
   "cell_type": "markdown",
   "metadata": {},
   "source": [
    "### Research Question 5. What are the keywords trends by generation?\n",
    "\n",
    "Let's group and count the number of movies released in a year then visualize the result"
   ]
  },
  {
   "cell_type": "code",
   "execution_count": 88,
   "metadata": {},
   "outputs": [
    {
     "data": {
      "text/plain": [
       "release_year\n",
       "1960    32\n",
       "1961    31\n",
       "1962    32\n",
       "1963    34\n",
       "1964    42\n",
       "Name: id, dtype: int64"
      ]
     },
     "execution_count": 88,
     "metadata": {},
     "output_type": "execute_result"
    }
   ],
   "source": [
    "movie_count = df.groupby('release_year').count()['id']\n",
    "movie_count.head()"
   ]
  },
  {
   "cell_type": "code",
   "execution_count": 89,
   "metadata": {},
   "outputs": [
    {
     "data": {
      "image/png": "[encoded data removed]",
      "text/plain": [
       "<Figure size 720x360 with 1 Axes>"
      ]
     },
     "metadata": {},
     "output_type": "display_data"
    }
   ],
   "source": [
    "sns.set_style('darkgrid')\n",
    "#set x, y axis data\n",
    "# x is movie release year\n",
    "x = movie_count.index\n",
    "# y is number of movie released\n",
    "y = movie_count\n",
    "#set size\n",
    "plt.figure(figsize=(10, 5))\n",
    "#plot line chart \n",
    "plt.plot(x, y, color = 'g', label = 'mean')\n",
    "#set title and labels\n",
    "plt.title('Number of Movie Released year by year')\n",
    "plt.xlabel('Year')\n",
    "plt.ylabel('Number of Movie Released');"
   ]
  },
  {
   "cell_type": "markdown",
   "metadata": {},
   "source": [
    "As sugested by the figure above, the number of movies per year is increasing over the years. The curve being concave upward implies that the growth is accelerated.\n",
    "\n",
    "___\n",
    "\n",
    "let's find the Keywords Trends by Generation then build categories as decades"
   ]
  },
  {
   "cell_type": "code",
   "execution_count": 90,
   "metadata": {},
   "outputs": [
    {
     "data": {
      "text/plain": [
       "array([1960, 1961, 1962, 1963, 1964, 1965, 1966, 1967, 1968, 1969, 1970,\n",
       "       1971, 1972, 1973, 1974, 1975, 1976, 1977, 1978, 1979, 1980, 1981,\n",
       "       1982, 1983, 1984, 1985, 1986, 1987, 1988, 1989, 1990, 1991, 1992,\n",
       "       1993, 1994, 1995, 1996, 1997, 1998, 1999, 2000, 2001, 2002, 2003,\n",
       "       2004, 2005, 2006, 2007, 2008, 2009, 2010, 2011, 2012, 2013, 2014,\n",
       "       2015])"
      ]
     },
     "execution_count": 90,
     "metadata": {},
     "output_type": "execute_result"
    }
   ],
   "source": [
    "# sort the movie release year list.\n",
    "dfyear= df.release_year.unique()\n",
    "dfyear= np.sort(dfyear)\n",
    "dfyear"
   ]
  },
  {
   "cell_type": "code",
   "execution_count": 91,
   "metadata": {},
   "outputs": [],
   "source": [
    "# year list of 1960s\n",
    "y1960s =dfyear[:10]\n",
    "# year list of 1970s\n",
    "y1970s =dfyear[10:20]\n",
    "# year list of 1980s\n",
    "y1980s =dfyear[20:30]\n",
    "# year list of 1990s\n",
    "y1990s = dfyear[30:40]\n",
    "# year list of afer 2000\n",
    "y2000 = dfyear[40:]"
   ]
  },
  {
   "cell_type": "markdown",
   "metadata": {},
   "source": [
    "For each generation, let's find the most appeared keywords."
   ]
  },
  {
   "cell_type": "code",
   "execution_count": 96,
   "metadata": {},
   "outputs": [
    {
     "data": {
      "text/html": [
       "<div>\n",
       "<style scoped>\n",
       "    .dataframe tbody tr th:only-of-type {\n",
       "        vertical-align: middle;\n",
       "    }\n",
       "\n",
       "    .dataframe tbody tr th {\n",
       "        vertical-align: top;\n",
       "    }\n",
       "\n",
       "    .dataframe thead th {\n",
       "        text-align: right;\n",
       "    }\n",
       "</style>\n",
       "<table border=\"1\" class=\"dataframe\">\n",
       "  <thead>\n",
       "    <tr style=\"text-align: right;\">\n",
       "      <th></th>\n",
       "      <th>year</th>\n",
       "      <th>top</th>\n",
       "    </tr>\n",
       "  </thead>\n",
       "  <tbody>\n",
       "    <tr>\n",
       "      <th>based on novel</th>\n",
       "      <td>1960s</td>\n",
       "      <td>16</td>\n",
       "    </tr>\n",
       "    <tr>\n",
       "      <th>based on novel</th>\n",
       "      <td>1970s</td>\n",
       "      <td>23</td>\n",
       "    </tr>\n",
       "    <tr>\n",
       "      <th>nudity</th>\n",
       "      <td>1980s</td>\n",
       "      <td>39</td>\n",
       "    </tr>\n",
       "    <tr>\n",
       "      <th>independent film</th>\n",
       "      <td>1990s</td>\n",
       "      <td>80</td>\n",
       "    </tr>\n",
       "    <tr>\n",
       "      <th>woman director</th>\n",
       "      <td>after2000</td>\n",
       "      <td>347</td>\n",
       "    </tr>\n",
       "  </tbody>\n",
       "</table>\n",
       "</div>"
      ],
      "text/plain": [
       "                       year  top\n",
       "based on novel        1960s   16\n",
       "based on novel        1970s   23\n",
       "nudity                1980s   39\n",
       "independent film      1990s   80\n",
       "woman director    after2000  347"
      ]
     },
     "execution_count": 96,
     "metadata": {},
     "output_type": "execute_result"
    }
   ],
   "source": [
    "#generation name\n",
    "names = ['1960s', '1970s', '1980s', '1990s', 'after2000']\n",
    "#creat a empty dataframe,df_r3\n",
    "df_r3 = pd.DataFrame()\n",
    "index = 0\n",
    "#for each generation, do the following procedure\n",
    "for s in [y1960s, y1970s, y1980s, y1990s, y2000]:\n",
    "    # first filter dataframe with the selected generation, and store it to dfn\n",
    "    dfn = df[df.release_year.isin(s)] \n",
    "    #apply the find_top function with the selected frame, using the result create a dataframe, store it to dfn2 \n",
    "    dfn2 = pd.DataFrame({'year' :names[index],'top': find_top(dfn.keywords,1)})\n",
    "     #append dfn2 to df_q2\n",
    "    df_r3 = df_r3.append(dfn2)\n",
    "    index +=1\n",
    "df_r3"
   ]
  },
  {
   "cell_type": "markdown",
   "metadata": {},
   "source": [
    "The result above implies that in the 60s and 70s, the top kewords were based on novels. However, in the 80s,  it was based on nudity, which is quite attention catching. In the 90s, the films were independant and after 2000 the movies with woman director were released the most.\n",
    "\n",
    "___\n",
    "let's visualize the result"
   ]
  },
  {
   "cell_type": "code",
   "execution_count": 97,
   "metadata": {},
   "outputs": [
    {
     "data": {
      "text/plain": [
       "Text(0.5, 1.0, 'Keywords Trends by Generation')"
      ]
     },
     "execution_count": 97,
     "metadata": {},
     "output_type": "execute_result"
    },
    {
     "data": {
      "image/png": "[encoded data removed]",
      "text/plain": [
       "<Figure size 432x288 with 2 Axes>"
      ]
     },
     "metadata": {},
     "output_type": "display_data"
    }
   ],
   "source": [
    "# Setting the positions\n",
    "generation = ['1960s', '1970s', '1980s', '1990s', 'after2000']\n",
    "keywords = df_r3.index\n",
    "y_pos = np.arange(len(generation))\n",
    "fig, ax = plt.subplots()\n",
    "# Setting y1: the keywords number\n",
    "y1 = df_r3.top\n",
    "# Setting y2 again to present the right-side y axis labels\n",
    "y2 = df_r3.top\n",
    "#plot the bar\n",
    "ax.barh(y_pos,y1, color = '#007482')\n",
    "#set the left side y axis ticks position\n",
    "ax.set_yticks(y_pos)\n",
    "#set the left side y axis tick label\n",
    "ax.set_yticklabels(keywords)\n",
    "#set left side y axis label\n",
    "ax.set_ylabel('keywords')\n",
    "\n",
    "#create another axis to present the right-side y axis labels\n",
    "ax2 = ax.twinx()\n",
    "#plot the bar\n",
    "ax2.barh(y_pos,y2, color = '#27a5b4')\n",
    "#set the right side y axis ticks position\n",
    "ax2.set_yticks(y_pos)\n",
    "#set the right side y axis tick label\n",
    "ax2.set_yticklabels(generation)\n",
    "#set right side y axis label\n",
    "ax2.set_ylabel('generation')\n",
    "#set title\n",
    "ax.set_title('Keywords Trends by Generation')"
   ]
  },
  {
   "cell_type": "markdown",
   "metadata": {},
   "source": [
    "Let's have a look to Genres Trends by Generation. In this section we will use quite the same approach as in the previous one"
   ]
  },
  {
   "cell_type": "code",
   "execution_count": 98,
   "metadata": {},
   "outputs": [
    {
     "data": {
      "text/html": [
       "<div>\n",
       "<style scoped>\n",
       "    .dataframe tbody tr th:only-of-type {\n",
       "        vertical-align: middle;\n",
       "    }\n",
       "\n",
       "    .dataframe tbody tr th {\n",
       "        vertical-align: top;\n",
       "    }\n",
       "\n",
       "    .dataframe thead th {\n",
       "        text-align: right;\n",
       "    }\n",
       "</style>\n",
       "<table border=\"1\" class=\"dataframe\">\n",
       "  <thead>\n",
       "    <tr style=\"text-align: right;\">\n",
       "      <th></th>\n",
       "      <th>year</th>\n",
       "      <th>top</th>\n",
       "    </tr>\n",
       "  </thead>\n",
       "  <tbody>\n",
       "    <tr>\n",
       "      <th>Drama</th>\n",
       "      <td>1960s</td>\n",
       "      <td>167</td>\n",
       "    </tr>\n",
       "    <tr>\n",
       "      <th>Drama</th>\n",
       "      <td>1970s</td>\n",
       "      <td>238</td>\n",
       "    </tr>\n",
       "    <tr>\n",
       "      <th>Comedy</th>\n",
       "      <td>1980s</td>\n",
       "      <td>428</td>\n",
       "    </tr>\n",
       "    <tr>\n",
       "      <th>Drama</th>\n",
       "      <td>1990s</td>\n",
       "      <td>862</td>\n",
       "    </tr>\n",
       "    <tr>\n",
       "      <th>Drama</th>\n",
       "      <td>after2000</td>\n",
       "      <td>3050</td>\n",
       "    </tr>\n",
       "  </tbody>\n",
       "</table>\n",
       "</div>"
      ],
      "text/plain": [
       "             year   top\n",
       "Drama       1960s   167\n",
       "Drama       1970s   238\n",
       "Comedy      1980s   428\n",
       "Drama       1990s   862\n",
       "Drama   after2000  3050"
      ]
     },
     "execution_count": 98,
     "metadata": {},
     "output_type": "execute_result"
    }
   ],
   "source": [
    "# year list of each generation\n",
    "times = [y1960s, y1970s, y1980s, y1990s, y2000]\n",
    "#generation name\n",
    "names = ['1960s', '1970s', '1980s', '1990s', 'after2000']\n",
    "#creat a empty dataframe,df_r3\n",
    "df_r3 = pd.DataFrame()\n",
    "index = 0\n",
    "#for each generation, do the following procedure\n",
    "for s in times:\n",
    "    # first filter dataframe with the selected generation, and store it to dfn\n",
    "    dfn = df[df.release_year.isin(s)] \n",
    "    #apply the find_top function with the selected frame, using the result create a dataframe, store it to dfn2 \n",
    "    dfn2 = pd.DataFrame({'year' :names[index],'top': find_top(dfn.genres,1)})\n",
    "     #append dfn2 to df_q2\n",
    "    df_r3 = df_r3.append(dfn2)\n",
    "    index +=1\n",
    "df_r3"
   ]
  },
  {
   "cell_type": "code",
   "execution_count": 99,
   "metadata": {},
   "outputs": [
    {
     "data": {
      "text/plain": [
       "Text(0.5, 1.0, 'Genres Trends by Generation')"
      ]
     },
     "execution_count": 99,
     "metadata": {},
     "output_type": "execute_result"
    },
    {
     "data": {
      "image/png": "[encoded data removed]",
      "text/plain": [
       "<Figure size 432x288 with 2 Axes>"
      ]
     },
     "metadata": {},
     "output_type": "display_data"
    }
   ],
   "source": [
    "# Setting the positions\n",
    "generation = ['1960s', '1970s', '1980s', '1990s', 'after2000']\n",
    "genres = df_r3.index\n",
    "y_pos = np.arange(len(generation))\n",
    "fig, ax = plt.subplots()\n",
    "# Setting y1: the genre number\n",
    "y1 = df_r3.top\n",
    "# Setting y2 again to present the right-side y axis labels\n",
    "y2 = df_r3.top\n",
    "#plot the bar\n",
    "ax.barh(y_pos,y1, color = '#007482')\n",
    "#set the left side y axis ticks position\n",
    "ax.set_yticks(y_pos)\n",
    "#set the left side y axis tick label\n",
    "ax.set_yticklabels(genres)\n",
    "#set left side y axis label\n",
    "ax.set_ylabel('genres')\n",
    "\n",
    "#create another axis to present the right-side y axis labels\n",
    "ax2 = ax.twinx()\n",
    "#plot the bar\n",
    "ax2.barh(y_pos,y2, color = '#27b466')\n",
    "#set the right side y axis ticks position\n",
    "ax2.set_yticks(y_pos)\n",
    "#set the right side y axis tick label\n",
    "ax2.set_yticklabels(generation)\n",
    "#set right side y axis label\n",
    "ax2.set_ylabel('generation')\n",
    "#set title\n",
    "ax.set_title('Genres Trends by Generation')"
   ]
  },
  {
   "cell_type": "markdown",
   "metadata": {},
   "source": [
    "We can tell from these results that only the 80 were dominated by comedy"
   ]
  },
  {
   "cell_type": "markdown",
   "metadata": {},
   "source": [
    "<a id='conclusions'></a>\n",
    "## Conclusions"
   ]
  },
  {
   "cell_type": "markdown",
   "metadata": {},
   "source": [
    "To sumarize this work, I am going to break it down into 3 parts. in the first one I am going to talk about a `general overview exploration`, the second one the `properties associated with successfull movies` then the last one `keyword and genre trends by generation`\n",
    "\n",
    "\n",
    "In the first part I noted the following: \n",
    "* The movie popularity rend is growing over the years from 1960. \n",
    "* Movies with high revenue have higher popularity in the recent five years\n",
    "* Movies with higher revenue don't have the significant high score rating\n",
    "\n",
    "The conclusions above caught my attention and made me want to know the properties which are assiciated with good movies. I ended up noting the following in the second part: \n",
    "\n",
    "* The properties associated with higher popularity movies are `high budget levels` and `longer run time`. \n",
    "* Cast associated with high popularity movies are `Robert de niro` and `Bruce willis`\n",
    "* The director associated with high popularity movies is `Steven Spielberg`\n",
    "* Genres associated with high popularity moviesare `drama, comedy, and thriller` however they also appear in the most unpopular ones\n",
    "* Keywords associated with high popular movies are `Based on novel` and `Dystopia`\n",
    "* The producer associated with high popularity movies are `Warner Bros`, `Universal Pictures` and `Paramount Pictures`\n",
    "* The low / high budget level may not directly predict that a movy had higher ratings.\n",
    "* Martin Scorsese and Clint Eastwood are the rockstar directors since the 60s\n",
    "\n",
    "In the third part, I talked about the Top Keywords and Genres Trends by Generation\n",
    "\n",
    "after exploring the number of movie realeased treand year by year and devided data into five generations I noted that: \n",
    "\n",
    "* Over the years, the number of move realeases kept increasing and it is an accelerated groth trend. \n",
    "* In the 90s and 70s the top keword was `based on novel`, in 80s was `Nudity`, in 90s `Independant films` and after 2000 the movies with the feature women director were released the most.\n",
    "* Only the 80s were dominated by comedy. the other generations were dominated by drama. \n"
   ]
  },
  {
   "cell_type": "markdown",
   "metadata": {},
   "source": [
    "### Limitations\n",
    "\n",
    "Although I had fun diving into the dataset, I found some limitations that I am going to share here.\n",
    "\n",
    "* I found a lot of null values in the data set which made me get rid of a lot of records which might have helped to make my result a lot more consistent.\n",
    "* The zero values in revenue and budget column were actually missing data.\n",
    "* The metrics about popularity are not well defined. They might be changing year by year\n",
    "\n",
    "* There was not clear information dbout the currencies of the budget and revenues\n",
    "* There are chances that they high revenue covers a wide range and may affect final results though the discusion around popularity in different revenue levels was done only for the finve recent years.\n"
   ]
  }
 ],
 "metadata": {
  "kernelspec": {
   "display_name": "Python 3",
   "language": "python",
   "name": "python3"
  },
  "language_info": {
   "codemirror_mode": {
    "name": "ipython",
    "version": 3
   },
   "file_extension": ".py",
   "mimetype": "text/x-python",
   "name": "python",
   "nbconvert_exporter": "python",
   "pygments_lexer": "ipython3",
   "version": "3.7.6"
  }
 },
 "nbformat": 4,
 "nbformat_minor": 2
}
